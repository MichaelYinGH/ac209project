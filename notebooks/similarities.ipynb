{
 "cells": [
  {
   "cell_type": "code",
   "execution_count": 7,
   "metadata": {},
   "outputs": [],
   "source": [
    "import pandas as pd\n",
    "import numpy as np\n",
    "import random"
   ]
  },
  {
   "cell_type": "code",
   "execution_count": 8,
   "metadata": {},
   "outputs": [],
   "source": [
    "def sq_w_euc_dist(A, B, w = None):\n",
    "    if w is None: \n",
    "        return np.mean((A - B) ** 2)\n",
    "    return np.sum(((A - B) ** 2) * w)"
   ]
  },
  {
   "cell_type": "code",
   "execution_count": 9,
   "metadata": {},
   "outputs": [],
   "source": [
    "def cos_dist(A, B):\n",
    "    return np.dot(A, B) / (np.linalg.norm(A) * np.linalg.norm(B))"
   ]
  },
  {
   "cell_type": "code",
   "execution_count": 10,
   "metadata": {},
   "outputs": [],
   "source": [
    "def w_randomizer(n):\n",
    "    weights = []\n",
    "    for i in range(n):\n",
    "        weights.append(random.random())\n",
    "    weights /= np.sum(weights)\n",
    "    return weights"
   ]
  },
  {
   "cell_type": "code",
   "execution_count": 11,
   "metadata": {},
   "outputs": [],
   "source": [
    "def find_closest_euc(X, y, n = 1, w = None):\n",
    "    \"\"\"\n",
    "    Inputs:\n",
    "        X - dataframe of rows to compare between\n",
    "        y - target row to compare to\n",
    "        n - number of closest rows\n",
    "        w - weights for the euclidean distance function\n",
    "    \n",
    "    Output:\n",
    "        sim_list - list of most similar values\n",
    "    \"\"\"\n",
    "    indices = []\n",
    "    dists = []\n",
    "    for ind, row in X.iterrows():\n",
    "        indices.append(ind)\n",
    "        dists.append(sq_w_euc_dist(row, y, w))\n",
    "    return [indices[ind] for ind in np.argsort(dists)[:n]]"
   ]
  },
  {
   "cell_type": "code",
   "execution_count": null,
   "metadata": {},
   "outputs": [],
   "source": [
    "def find_closest_cos(X, y, n = 1):\n",
    "    indices = []\n",
    "    dists = []\n",
    "    for ind, row in X.iterrows():\n",
    "        indices.append(ind)\n",
    "        dists.append(cos_dist(row, y))\n",
    "    return [indices[ind] for ind in np.argsort(dists)[:n]]"
   ]
  },
  {
   "cell_type": "code",
   "execution_count": 17,
   "metadata": {},
   "outputs": [],
   "source": [
    "def find_approx_closest(X, y, comp, vals, n = 1, num_weights = 0):\n",
    "    \"\"\"\n",
    "    Inputs:\n",
    "        X - dataframe of rows to compare between\n",
    "        y - target row to compare to\n",
    "        n - number of closest rows\n",
    "        w - weights for the euclidean distance function\n",
    "        comp - dimensions to pre-compare along\n",
    "        vals - absolute differences that drops vals from consideration\n",
    "    \n",
    "    Output:\n",
    "        sim_list - list of most similar values\n",
    "    \"\"\"\n",
    "\n",
    "    comp_df = (abs(X[comp] - y[comp]) - vals) >= 0\n",
    "    drop_rows = comp_df.any(axis = 1)\n",
    "    \n",
    "    search_df = X.loc[~drop_rows]\n",
    "    \n",
    "    indices = []\n",
    "    dists = []\n",
    "    \n",
    "    to_return = {}\n",
    "    to_return[\"cos\"] = find_closest_cos(X, y, n)\n",
    "    to_return[\"euc_unweighted\"] = find_closest_euc(search_df, y, n)\n",
    "    for i in range(num_weights):\n",
    "        to_return[f\"euc_weighted_{i + 1}\"] = find_closest_euc(search_df, y, n, w_randomizer(len(y)))\n",
    "\n",
    "    return to_return"
   ]
  },
  {
   "cell_type": "code",
   "execution_count": 5,
   "metadata": {},
   "outputs": [],
   "source": [
    "# def treatment_effect_grid(yes_df, no_df, main_df, comparables, checks, check_vals, neighbors = 10, random = None):\n",
    "    \n",
    "#     search_df = yes_df[comparables].copy()\n",
    "#     compare_df = no_df[comparables].copy()\n",
    "    \n",
    "#     w = None\n",
    "    \n",
    "#     if random:\n",
    "#         w = w_randomizer(len(comparables)) \n",
    "    \n",
    "#     for idx, row in search_df.iterrows():\n",
    "#         closest = find_approx_closest_euc(compare_df[no_df.date == yes_df.date[idx]].copy(), row,checks,check_vals, neighbors, w)\n",
    "#         nearest_idx[(yes_df.fips[idx], yes_df.date[idx])] = no_df.fips[closest].values\n",
    "        \n",
    "#     low_count = 0\n",
    "#     for key in nearest_idx:\n",
    "#         low_count += len(nearest_idx[key]) < neighbors\n",
    "        \n",
    "#     treatment_effect = []\n",
    "#     counterfactual_list = []\n",
    "#     outcome = []\n",
    "#     fips_list = []\n",
    "#     treatment_outcome = \"past_week_cases\"\n",
    "#     time_frame = 14\n",
    "\n",
    "#     for key, val in nearest_idx.items():\n",
    "\n",
    "#         check_date = key[1] + timedelta(days = time_frame)\n",
    "#         actual = main_df[(main_df.fips == key[0]) & (main_df.date == check_date)][treatment_outcome].values.item()\n",
    "#         if np.isnan(actual):\n",
    "#             continue\n",
    "\n",
    "#         if len(val) == 0:\n",
    "#             continue\n",
    "\n",
    "#         counterfactual = np.nanmean(main_df[(main_df.fips.isin(val)) & (main_df.date == check_date)][treatment_outcome].values)\n",
    "\n",
    "#         if np.isnan(counterfactual):\n",
    "#             continue\n",
    "\n",
    "#         fips_list.append(key[0])\n",
    "#         counterfactual_list.append(counterfactual)\n",
    "#         outcome.append(actual)\n",
    "#         treatment_effect.append(actual - counterfactual)\n",
    "\n",
    "#     treatment_df = pd.DataFrame({'fips': fips_list, 'effect':treatment_effect, 'actual':outcome, 'counter':counterfactual_list})\n",
    "\n",
    "#     avg_treatment = np.mean(treatment_df.effect)\n",
    "#     avg_treatment.sort()\n",
    "#     treatment_ci = (np.percentile(avg_treatment, 2.5), np.percentile(avg_treatment, 97.5))\n",
    "\n",
    "#     return [avg_treatment, treatment_ci, low_count]"
   ]
  }
 ],
 "metadata": {
  "kernelspec": {
   "display_name": "Python 3",
   "language": "python",
   "name": "python3"
  },
  "language_info": {
   "codemirror_mode": {
    "name": "ipython",
    "version": 3
   },
   "file_extension": ".py",
   "mimetype": "text/x-python",
   "name": "python",
   "nbconvert_exporter": "python",
   "pygments_lexer": "ipython3",
   "version": "3.8.3"
  }
 },
 "nbformat": 4,
 "nbformat_minor": 4
}
