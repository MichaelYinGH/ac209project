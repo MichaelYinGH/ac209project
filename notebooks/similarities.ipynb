{
 "cells": [
  {
   "cell_type": "code",
   "execution_count": 5,
   "metadata": {},
   "outputs": [],
   "source": [
    "import pandas as pd\n",
    "import numpy as np\n",
    "import random"
   ]
  },
  {
   "cell_type": "code",
   "execution_count": 6,
   "metadata": {},
   "outputs": [],
   "source": [
    "def sq_w_euc_dist(A, B, w = None):\n",
    "    if w:\n",
    "        return np.sum(((A - B) ** 2) * w)\n",
    "    return np.mean((A - B) ** 2)"
   ]
  },
  {
   "cell_type": "code",
   "execution_count": 7,
   "metadata": {},
   "outputs": [],
   "source": [
    "def cos_dist(A, B):\n",
    "    return np.dot(A, B) / (np.linalg.norm(A) * np.linalg.norm(B))"
   ]
  },
  {
   "cell_type": "code",
   "execution_count": 8,
   "metadata": {},
   "outputs": [],
   "source": [
    "def w_randomizer(n):\n",
    "    weights = []\n",
    "    for i in range(n):\n",
    "        weights.append(random.random())\n",
    "    weights /= np.sum(weights)\n",
    "    return weights"
   ]
  },
  {
   "cell_type": "code",
   "execution_count": 30,
   "metadata": {},
   "outputs": [],
   "source": [
    "def find_closest_euc(X, y, n = 1, w = None):\n",
    "    \"\"\"\n",
    "    Inputs:\n",
    "        X - dataframe of rows to compare between\n",
    "        y - target row to compare to\n",
    "        n - number of closest rows\n",
    "        w - weights for the euclidean distance function\n",
    "    \n",
    "    Output:\n",
    "        sim_list - list of most similar values\n",
    "    \"\"\"\n",
    "    indices = []\n",
    "    dists = []\n",
    "    for ind, row in X.iterrows():\n",
    "        indices.append(ind)\n",
    "        dists.append(sq_w_euc_dist(row, y, w))\n",
    "    return [indices[ind] for ind in np.argsort(dists)[:n]]"
   ]
  },
  {
   "cell_type": "code",
   "execution_count": 6,
   "metadata": {},
   "outputs": [],
   "source": [
    "def find_approx_closest_euc(X, y, comp, vals, n = 1, w = None):\n",
    "    \"\"\"\n",
    "    Inputs:\n",
    "        X - dataframe of rows to compare between\n",
    "        y - target row to compare to\n",
    "        n - number of closest rows\n",
    "        w - weights for the euclidean distance function\n",
    "        comp - dimensions to pre-compare along\n",
    "        vals - absolute differences that drops vals from consideration\n",
    "    \n",
    "    Output:\n",
    "        sim_list - list of most similar values\n",
    "    \"\"\"\n",
    "\n",
    "    comp_df = (abs(X[comp] - y[comp]) - vals) >= 0\n",
    "    drop_rows = comp_df.any(axis = 1)\n",
    "    \n",
    "    search_df = X.loc[~drop_rows]\n",
    "    \n",
    "    indices = []\n",
    "    dists = []\n",
    "    for ind, row in search_df.iterrows():\n",
    "        indices.append(ind)\n",
    "        dists.append(sq_w_euc_dist(row, y, w))\n",
    "    return [indices[ind] for ind in np.argsort(dists)[:n]]"
   ]
  },
  {
   "cell_type": "code",
   "execution_count": 32,
   "metadata": {},
   "outputs": [],
   "source": [
    "def find_closest_cos(X, y, n = 1):\n",
    "    indices = []\n",
    "    dists = []\n",
    "    for ind, row in X.iterrows():\n",
    "        indices.append(ind)\n",
    "        dists.append(cos_dist(row, y))\n",
    "    return [indices[ind] for ind in np.argsort(dists)[:n]]"
   ]
  }
 ],
 "metadata": {
  "kernelspec": {
   "display_name": "Python 3",
   "language": "python",
   "name": "python3"
  },
  "language_info": {
   "codemirror_mode": {
    "name": "ipython",
    "version": 3
   },
   "file_extension": ".py",
   "mimetype": "text/x-python",
   "name": "python",
   "nbconvert_exporter": "python",
   "pygments_lexer": "ipython3",
   "version": "3.7.8"
  }
 },
 "nbformat": 4,
 "nbformat_minor": 4
}
