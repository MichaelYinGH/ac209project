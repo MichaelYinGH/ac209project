{
 "cells": [
  {
   "cell_type": "code",
   "execution_count": 1,
   "metadata": {},
   "outputs": [],
   "source": [
    "import pandas as pd\n",
    "import numpy as np\n",
    "from sklearn.linear_model import LinearRegression\n",
    "from sklearn.model_selection import train_test_split\n",
    "from sklearn.metrics import mean_squared_error\n",
    "from sklearn.preprocessing import StandardScaler\n",
    "from os import path\n",
    "from tqdm import tqdm"
   ]
  },
  {
   "cell_type": "markdown",
   "metadata": {},
   "source": [
    "# Baseline Model\n",
    "\n",
    "- In this notebook, we build a basic model to predict new covid cases on a given day at the county level, given the previous 14 day history of cases and demographic information."
   ]
  },
  {
   "cell_type": "markdown",
   "metadata": {},
   "source": [
    "## Preprocess Data\n",
    "\n",
    "- We decided to remove rows with null values (given the high abundance of training examples) and to remove rows which included a stray value one day in New York as per https://github.com/CSSEGISandData/COVID-19/issues/3103.\n",
    "- We assigned the 14-day covid history as separate predictors, as well as a few demographic indicators\n",
    "- We standardized the data given high variance between the ranges of different features"
   ]
  },
  {
   "cell_type": "code",
   "execution_count": 2,
   "metadata": {},
   "outputs": [],
   "source": [
    "def num_to_date(i):\n",
    "    if i>9:\n",
    "        return str(i)\n",
    "    return \"0\" + str(i)\n",
    "\n",
    "augmented_df = pd.read_csv(\"../processed_data/combined.csv\", index_col=0)\n",
    "\n",
    "# drop null values\n",
    "augmented_df = augmented_df.dropna(subset=([f\"{k}_before\" for k in range(15)]+['pct_impoverished']))\n",
    "\n",
    "# remove data with spike from NY county https://github.com/CSSEGISandData/COVID-19/issues/3103\n",
    "augmented_df = augmented_df.drop([\"36061_08-31-2020\"]+[f\"36061_09-{num_to_date(i)}-2020\" for i in range(1,15)])"
   ]
  },
  {
   "cell_type": "code",
   "execution_count": 3,
   "metadata": {},
   "outputs": [],
   "source": [
    "predictors = [f\"{k + 1}_before\" for k in range(14)] + ['median_age', 'female_percentage', 'life_expectancy', 'pct_impoverished', 'median_hh_income']\n",
    "X = augmented_df[predictors]\n",
    "y = augmented_df['0_before']\n",
    "X_train, X_test, y_train, y_test = train_test_split(X, y, test_size=0.1, random_state=209)"
   ]
  },
  {
   "cell_type": "code",
   "execution_count": 4,
   "metadata": {},
   "outputs": [],
   "source": [
    "scaler = StandardScaler()\n",
    "X_train_scaled = scaler.fit_transform(X_train)\n",
    "X_test_scaled = scaler.transform(X_test)"
   ]
  },
  {
   "cell_type": "markdown",
   "metadata": {},
   "source": [
    "## Prediction\n",
    "\n",
    "- We fit a model to the scaled, cleaned data and report MSE and coefficient values"
   ]
  },
  {
   "cell_type": "code",
   "execution_count": 5,
   "metadata": {},
   "outputs": [
    {
     "name": "stdout",
     "output_type": "stream",
     "text": [
      "Train MSE: 2288.5313032393974\n",
      " Test MSE: 1410.6052237455647\n",
      "\n",
      "Coefficient values\n",
      "1_before: 9.186384225905895\n",
      "2_before: 11.279167231487282\n",
      "3_before: 11.658264570448987\n",
      "4_before: 6.720346054784222\n",
      "5_before: 3.9931847405511505\n",
      "6_before: 14.491819623990756\n",
      "7_before: 15.551266860594458\n",
      "8_before: 1.1444712812665954\n",
      "9_before: 0.7076124258938843\n",
      "10_before: 0.244652940910131\n",
      "11_before: 4.072149213933631\n",
      "12_before: 0.4449296399997864\n",
      "13_before: -3.469810690790506\n",
      "14_before: 1.737584364639329\n",
      "median_age: -0.9844958463607211\n",
      "female_percentage: 0.4895378893085517\n",
      "life_expectancy: 0.7505754563157813\n",
      "pct_impoverished: 0.41151039481048046\n",
      "median_hh_income: 0.6003583211846797\n"
     ]
    }
   ],
   "source": [
    "baseline = LinearRegression()\n",
    "baseline.fit(X_train_scaled, y_train)\n",
    "\n",
    "y_train_predict = baseline.predict(X_train_scaled)\n",
    "y_test_predict = baseline.predict(X_test_scaled)\n",
    "\n",
    "train_mse = mean_squared_error(y_train_predict, y_train)\n",
    "test_mse = mean_squared_error(y_test_predict, y_test)\n",
    "\n",
    "print(f\"Train MSE: {train_mse}\\n Test MSE: {test_mse}\\n\")\n",
    "\n",
    "print(\"Coefficient values\")\n",
    "for coef, col in zip(baseline.coef_, predictors):\n",
    "    print(f\"{col}: {coef}\")"
   ]
  },
  {
   "cell_type": "code",
   "execution_count": null,
   "metadata": {},
   "outputs": [],
   "source": []
  }
 ],
 "metadata": {
  "kernelspec": {
   "display_name": "Python (cs109a)",
   "language": "python",
   "name": "cs109a"
  },
  "language_info": {
   "codemirror_mode": {
    "name": "ipython",
    "version": 3
   },
   "file_extension": ".py",
   "mimetype": "text/x-python",
   "name": "python",
   "nbconvert_exporter": "python",
   "pygments_lexer": "ipython3",
   "version": "3.7.8"
  }
 },
 "nbformat": 4,
 "nbformat_minor": 4
}
