{
 "cells": [
  {
   "cell_type": "code",
   "execution_count": 1,
   "metadata": {},
   "outputs": [],
   "source": [
    "import pandas as pd\n",
    "import numpy as np\n",
    "from sklearn.linear_model import LinearRegression\n",
    "from sklearn.model_selection import train_test_split\n",
    "from sklearn.metrics import mean_squared_error\n",
    "from sklearn.preprocessing import StandardScaler\n",
    "from os import path\n",
    "from tqdm import tqdm"
   ]
  },
  {
   "cell_type": "code",
   "execution_count": 2,
   "metadata": {},
   "outputs": [],
   "source": [
    "def num_to_date(i):\n",
    "    if i>9:\n",
    "        return str(i)\n",
    "    return \"0\" + str(i)\n",
    "\n",
    "augmented_df = pd.read_csv(\"../processed_data/combined.csv\", index_col=0)\n",
    "\n",
    "# drop null values\n",
    "augmented_df = augmented_df.dropna(subset=([f\"{k}_before\" for k in range(15)]+['pct_impoverished']))\n",
    "\n",
    "# remove data with spike from NY county https://github.com/CSSEGISandData/COVID-19/issues/3103\n",
    "augmented_df = augmented_df.drop([\"36061_08-31-2020\"]+[f\"36061_09-{num_to_date(i)}-2020\" for i in range(1,15)])\n",
    "\n"
   ]
  },
  {
   "cell_type": "code",
   "execution_count": 3,
   "metadata": {},
   "outputs": [],
   "source": [
    "predictors = [f\"{k + 1}_before\" for k in range(14)] + ['median_age', 'female_percentage', 'life_expectancy', 'pct_impoverished', 'median_hh_income']\n",
    "X = augmented_df[predictors]\n",
    "y = augmented_df['0_before']\n",
    "X_train, X_test, y_train, y_test = train_test_split(X, y, test_size=0.1)"
   ]
  },
  {
   "cell_type": "code",
   "execution_count": 4,
   "metadata": {},
   "outputs": [],
   "source": [
    "scaler = StandardScaler()\n",
    "X_train_scaled = scaler.fit_transform(X_train)\n",
    "X_test_scaled = scaler.transform(X_test)"
   ]
  },
  {
   "cell_type": "code",
   "execution_count": 5,
   "metadata": {},
   "outputs": [
    {
     "name": "stdout",
     "output_type": "stream",
     "text": [
      "Train MSE: 2203.771351140823\n",
      " Test MSE: 2197.295475036151\n",
      "\n",
      "Coefficient values\n",
      "1_before: 10.511588702590272\n",
      "2_before: 10.73714144725318\n",
      "3_before: 11.1479598690995\n",
      "4_before: 5.582722622072973\n",
      "5_before: 3.58461871230837\n",
      "6_before: 13.44590015616119\n",
      "7_before: 16.060866708238702\n",
      "8_before: 1.5387510764499326\n",
      "9_before: 0.5425768313559217\n",
      "10_before: 0.45412442301425154\n",
      "11_before: 4.102901158513511\n",
      "12_before: -1.554615534245421\n",
      "13_before: -2.3425822046774982\n",
      "14_before: 2.9503481225370036\n",
      "median_age: -1.0622941521627283\n",
      "female_percentage: 0.546726933358288\n",
      "life_expectancy: 0.7676587549301737\n",
      "pct_impoverished: 0.44584296854219074\n",
      "median_hh_income: 0.714252398256056\n"
     ]
    }
   ],
   "source": [
    "baseline = LinearRegression()\n",
    "baseline.fit(X_train_scaled, y_train)\n",
    "\n",
    "y_train_predict = baseline.predict(X_train_scaled)\n",
    "y_test_predict = baseline.predict(X_test_scaled)\n",
    "\n",
    "train_mse = mean_squared_error(y_train_predict, y_train)\n",
    "test_mse = mean_squared_error(y_test_predict, y_test)\n",
    "\n",
    "print(f\"Train MSE: {train_mse}\\n Test MSE: {test_mse}\\n\")\n",
    "\n",
    "print(\"Coefficient values\")\n",
    "for coef, col in zip(baseline.coef_, predictors):\n",
    "    print(f\"{col}: {coef}\")"
   ]
  },
  {
   "cell_type": "code",
   "execution_count": null,
   "metadata": {},
   "outputs": [],
   "source": []
  }
 ],
 "metadata": {
  "kernelspec": {
   "display_name": "Python (cs109a)",
   "language": "python",
   "name": "cs109a"
  },
  "language_info": {
   "codemirror_mode": {
    "name": "ipython",
    "version": 3
   },
   "file_extension": ".py",
   "mimetype": "text/x-python",
   "name": "python",
   "nbconvert_exporter": "python",
   "pygments_lexer": "ipython3",
   "version": "3.7.8"
  }
 },
 "nbformat": 4,
 "nbformat_minor": 4
}
