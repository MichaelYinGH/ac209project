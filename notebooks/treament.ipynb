{
 "cells": [
  {
   "cell_type": "code",
   "execution_count": null,
   "metadata": {},
   "outputs": [],
   "source": [
    "import pandas as pd\n",
    "import numpy as np\n",
    "%run similarities.ipynb\n",
    "from datetime import timedelta\n",
    "\n",
    "import os\n",
    "import sys"
   ]
  },
  {
   "cell_type": "code",
   "execution_count": null,
   "metadata": {},
   "outputs": [],
   "source": [
    "def treatment_effect_grid(yes_df, no_df, main_df, comparables, checks, check_vals, neighbors = 10):\n",
    "    \n",
    "    search_df = yes_df[comparables].copy()\n",
    "    compare_df = no_df[comparables].copy()\n",
    "    \n",
    "    for idx, row in yes_df.iterrows():\n",
    "        closest = find_approx_closest_euc(compare_df[no_df.date == yes_df.date[idx]].copy(), row,checks,check_vals, neighbors)\n",
    "        nearest_idx[(yes_df.fips[idx], yes_df.date[idx])] = no_df.fips[closest].values\n",
    "        \n",
    "    low_count = 0\n",
    "    for key in nearest_idx:\n",
    "        low_count += len(nearest_idx[key]) < neighbors\n",
    "        \n",
    "    treatment_effect = []\n",
    "    counterfactual_list = []\n",
    "    outcome = []\n",
    "    fips_list = []\n",
    "    treatment_outcome = \"past_week_cases\"\n",
    "    time_frame = 14\n",
    "\n",
    "    for key, val in nearest_idx.items():\n",
    "\n",
    "        check_date = key[1] + timedelta(days = time_frame)\n",
    "        actual = main_df[(main_df.fips == key[0]) & (main_df.date == check_date)][treatment_outcome].values.item()\n",
    "        if np.isnan(actual):\n",
    "            continue\n",
    "\n",
    "        if len(val) == 0:\n",
    "            continue\n",
    "\n",
    "        counterfactual = np.nanmean(main_df[(main_df.fips.isin(val)) & (main_df.date == check_date)][treatment_outcome].values)\n",
    "\n",
    "        if np.isnan(counterfactual):\n",
    "            continue\n",
    "\n",
    "        fips_list.append(key[0])\n",
    "        counterfactual_list.append(counterfactual)\n",
    "        outcome.append(actual)\n",
    "        treatment_effect.append(actual - counterfactual)\n",
    "\n",
    "    treatment_df = pd.DataFrame({'fips': fips_list, 'effect':treatment_effect, 'actual':outcome, 'counter':counterfactual_list})\n",
    "\n",
    "    avg_treatment = np.mean(treatment_df.effect)\n",
    "    avg_treatment.sort()\n",
    "    treatment_ci = (np.percentile(avg_treatment, 2.5), np.percentile(avg_treatment, 97.5))\n",
    "\n",
    "    return [avg_treatment, treatment_ci, low_count]\n"
   ]
  }
 ],
 "metadata": {
  "kernelspec": {
   "display_name": "Python 3",
   "language": "python",
   "name": "python3"
  },
  "language_info": {
   "codemirror_mode": {
    "name": "ipython",
    "version": 3
   },
   "file_extension": ".py",
   "mimetype": "text/x-python",
   "name": "python",
   "nbconvert_exporter": "python",
   "pygments_lexer": "ipython3",
   "version": "3.7.8"
  }
 },
 "nbformat": 4,
 "nbformat_minor": 4
}
