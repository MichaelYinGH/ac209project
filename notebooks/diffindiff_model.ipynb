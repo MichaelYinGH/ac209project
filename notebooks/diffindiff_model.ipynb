{
 "cells": [
  {
   "cell_type": "code",
   "execution_count": 130,
   "metadata": {},
   "outputs": [],
   "source": [
    "import pandas as pd\n",
    "import numpy as np\n",
    "%run similarities.ipynb\n",
    "from datetime import timedelta\n",
    "\n",
    "import os\n",
    "import sys\n",
    "\n",
    "from sklearn.linear_model import LinearRegression\n",
    "from sklearn.model_selection import train_test_split\n",
    "from sklearn.metrics import mean_squared_error\n",
    "from sklearn.preprocessing import StandardScaler"
   ]
  },
  {
   "cell_type": "code",
   "execution_count": 2,
   "metadata": {},
   "outputs": [],
   "source": [
    "convert={'FIPS': lambda x: str(x)}\n",
    "main_df = pd.read_csv(\"../processed_data/combined.csv\", converters = convert)"
   ]
  },
  {
   "cell_type": "code",
   "execution_count": 3,
   "metadata": {},
   "outputs": [],
   "source": [
    "main_df.FIPS = [str(item).zfill(5) for item in main_df.FIPS]\n",
    "main_df['date'] = main_df['date'].astype(str) + '-20'\n",
    "main_df['date'] = pd.to_datetime(main_df.date)"
   ]
  },
  {
   "cell_type": "code",
   "execution_count": 109,
   "metadata": {},
   "outputs": [],
   "source": [
    "window_length = 2\n",
    "window_start = pd.to_datetime(\"05-25-2020\")\n",
    "window_end = window_start + timedelta(days = window_length)\n",
    "\n",
    "window_df = main_df[(main_df['date'] >= window_start ) & (main_df['date'] <= window_end)]"
   ]
  },
  {
   "cell_type": "code",
   "execution_count": 110,
   "metadata": {},
   "outputs": [
    {
     "name": "stderr",
     "output_type": "stream",
     "text": [
      "/Users/Sapthau/opt/anaconda3/envs/cs109a/lib/python3.7/site-packages/ipykernel_launcher.py:2: SettingWithCopyWarning: \n",
      "A value is trying to be set on a copy of a slice from a DataFrame.\n",
      "Try using .loc[row_indexer,col_indexer] = value instead\n",
      "\n",
      "See the caveats in the documentation: https://pandas.pydata.org/pandas-docs/stable/user_guide/indexing.html#returning-a-view-versus-a-copy\n",
      "  \n"
     ]
    }
   ],
   "source": [
    "## temp to have something to subset by\n",
    "window_df[\"temp\"] = (np.random.randint(0,10, size=len(window_df)) > 8)*1"
   ]
  },
  {
   "cell_type": "code",
   "execution_count": 111,
   "metadata": {},
   "outputs": [],
   "source": [
    "window_df.reset_index(inplace = True, drop = True)\n",
    "yes_df = window_df[window_df[\"temp\"] == 1].copy()\n",
    "no_df = window_df[window_df[\"temp\"] == 0].copy()\n",
    "\n",
    "yes_df.drop([\"temp\"], axis = 1, inplace = True)\n",
    "yes_df.reset_index(inplace = True, drop = True)\n",
    "no_df.drop([\"temp\"], axis = 1, inplace = True)\n",
    "no_df.reset_index(inplace = True, drop = True)\n",
    "\n",
    "\n",
    "comparables = ['population', 'female_percentage','life_expectancy',\n",
    "       'mortality_risk','pct_none', 'pct_hs',\n",
    "       'pct_bachelors', 'median_household_income', 'pct_black', 'pct_asian',\n",
    "       'pct_hispanic', 'pct_non_hispanic_white',\n",
    "       'pct_not_proficient_in_english', 'pct_rural', 'pct_impoverished',\n",
    "       'pop_density', 'r_voteshare']\n",
    "\n",
    "protests_df = yes_df[comparables].copy()\n",
    "compare_df = no_df[comparables].copy()\n",
    "\n"
   ]
  },
  {
   "cell_type": "code",
   "execution_count": 112,
   "metadata": {},
   "outputs": [],
   "source": [
    "def progressbar(n_step, n_total):\n",
    "    \"\"\"Prints self-updating progress bar to stdout to track for-loop progress\n",
    "    \n",
    "    There are entire 3rd-party libraries dedicated to custom progress-bars.\n",
    "    A simple function like this is often more than enough to get the job done.\n",
    "    \n",
    "    :param n_total: total number of expected for-loop iterations\n",
    "    :type n_total: int\n",
    "    :param n_step: current iteration number, starting at 0\n",
    "    :type n_step: int\n",
    "\n",
    "    .. example::\n",
    "    \n",
    "        for i in range(n_iterations):\n",
    "            progressbar(i, n_iterations)\n",
    "            \n",
    "    .. source:\n",
    "    \n",
    "        This function is a simplified version of code found here:\n",
    "        https://stackoverflow.com/questions/3160699/python-progress-bar/15860757#15860757\n",
    "    \"\"\"\n",
    "    n_step = n_step + 1\n",
    "    barlen = 50\n",
    "    progress = n_step / n_total\n",
    "    block = int(round(barlen * progress))\n",
    "    status = \"\"\n",
    "    if n_step == n_total:\n",
    "        status = \"Done...\\r\\n\\n\"\n",
    "    text = \"\\r [{0}] {1}/{2} {3}\".format(\n",
    "        \"=\" * block + \"-\" * (barlen - block),\n",
    "        n_step,\n",
    "        n_total,\n",
    "        status,\n",
    "    )\n",
    "    sys.stdout.write(text)\n",
    "    sys.stdout.flush()"
   ]
  },
  {
   "cell_type": "code",
   "execution_count": 137,
   "metadata": {},
   "outputs": [
    {
     "name": "stdout",
     "output_type": "stream",
     "text": [
      " [==================================================] 944/944 Done...\n",
      "\n"
     ]
    }
   ],
   "source": [
    "nearest_idx = {}\n",
    "\n",
    "for idx, row in yes_df.iterrows():\n",
    "    closest = find_approx_closest_euc(compare_df[no_df.date == yes_df.date[idx]].copy(), row,[\"pct_hs\"],[0.1], 10)\n",
    "    nearest_idx[(yes_df.FIPS[idx], yes_df.date[idx])] = no_df.FIPS[closest].values\n",
    "    progressbar(idx, yes_df.shape[0])\n",
    "    \n",
    "    "
   ]
  },
  {
   "cell_type": "code",
   "execution_count": null,
   "metadata": {},
   "outputs": [],
   "source": []
  }
 ],
 "metadata": {
  "kernelspec": {
   "display_name": "Python 3",
   "language": "python",
   "name": "python3"
  },
  "language_info": {
   "codemirror_mode": {
    "name": "ipython",
    "version": 3
   },
   "file_extension": ".py",
   "mimetype": "text/x-python",
   "name": "python",
   "nbconvert_exporter": "python",
   "pygments_lexer": "ipython3",
   "version": "3.7.8"
  }
 },
 "nbformat": 4,
 "nbformat_minor": 4
}
