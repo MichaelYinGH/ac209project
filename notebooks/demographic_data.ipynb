{
 "cells": [
  {
   "cell_type": "code",
   "execution_count": 1,
   "metadata": {},
   "outputs": [],
   "source": [
    "import pandas as pd, numpy as np, matplotlib.pyplot as plt, seaborn as sns\n",
    "import requests, censusdata, zipfile\n",
    "from pathlib import Path\n",
    "from sklearn.linear_model import LinearRegression\n",
    "from sklearn.metrics import r2_score"
   ]
  },
  {
   "cell_type": "markdown",
   "metadata": {},
   "source": [
    "## 1. US county demographic data EDA\n",
    "####  1.1 Set raw and processed data directories"
   ]
  },
  {
   "cell_type": "code",
   "execution_count": 2,
   "metadata": {},
   "outputs": [],
   "source": [
    "raw_dir = Path('../raw_data/')\n",
    "processed_dir = Path('../processed_data/')\n",
    "\n",
    "assert(raw_dir.exists() & processed_dir.exists()), 'data directories not valid'"
   ]
  },
  {
   "cell_type": "markdown",
   "metadata": {},
   "source": [
    "#### 1.2 Pull downloaded Kaggle data (requires auth) \n",
    "Basic county-level demographic data from JHU and US Census was downloaded from Kaggle to a CSV since download requires username / password authentication. The data contains the unique FIPS code, county / state names, male and female populations, median county age, as well as the latitude and longitude of the center of the county."
   ]
  },
  {
   "cell_type": "code",
   "execution_count": 3,
   "metadata": {},
   "outputs": [
    {
     "data": {
      "text/html": [
       "<div>\n",
       "<style scoped>\n",
       "    .dataframe tbody tr th:only-of-type {\n",
       "        vertical-align: middle;\n",
       "    }\n",
       "\n",
       "    .dataframe tbody tr th {\n",
       "        vertical-align: top;\n",
       "    }\n",
       "\n",
       "    .dataframe thead th {\n",
       "        text-align: right;\n",
       "    }\n",
       "</style>\n",
       "<table border=\"1\" class=\"dataframe\">\n",
       "  <thead>\n",
       "    <tr style=\"text-align: right;\">\n",
       "      <th></th>\n",
       "      <th>fips</th>\n",
       "      <th>county</th>\n",
       "      <th>state</th>\n",
       "      <th>state_code</th>\n",
       "      <th>male</th>\n",
       "      <th>female</th>\n",
       "      <th>median_age</th>\n",
       "      <th>population</th>\n",
       "      <th>female_percentage</th>\n",
       "      <th>lat</th>\n",
       "      <th>long</th>\n",
       "    </tr>\n",
       "  </thead>\n",
       "  <tbody>\n",
       "    <tr>\n",
       "      <th>0</th>\n",
       "      <td>1001</td>\n",
       "      <td>Autauga County</td>\n",
       "      <td>Alabama</td>\n",
       "      <td>AL</td>\n",
       "      <td>26874</td>\n",
       "      <td>28326</td>\n",
       "      <td>37.8</td>\n",
       "      <td>55200</td>\n",
       "      <td>51.315217</td>\n",
       "      <td>32.534923</td>\n",
       "      <td>-86.642730</td>\n",
       "    </tr>\n",
       "    <tr>\n",
       "      <th>1</th>\n",
       "      <td>1003</td>\n",
       "      <td>Baldwin County</td>\n",
       "      <td>Alabama</td>\n",
       "      <td>AL</td>\n",
       "      <td>101188</td>\n",
       "      <td>106919</td>\n",
       "      <td>42.8</td>\n",
       "      <td>208107</td>\n",
       "      <td>51.376936</td>\n",
       "      <td>30.727479</td>\n",
       "      <td>-87.722564</td>\n",
       "    </tr>\n",
       "    <tr>\n",
       "      <th>2</th>\n",
       "      <td>1005</td>\n",
       "      <td>Barbour County</td>\n",
       "      <td>Alabama</td>\n",
       "      <td>AL</td>\n",
       "      <td>13697</td>\n",
       "      <td>12085</td>\n",
       "      <td>39.9</td>\n",
       "      <td>25782</td>\n",
       "      <td>46.873788</td>\n",
       "      <td>31.869581</td>\n",
       "      <td>-85.393210</td>\n",
       "    </tr>\n",
       "    <tr>\n",
       "      <th>3</th>\n",
       "      <td>1007</td>\n",
       "      <td>Bibb County</td>\n",
       "      <td>Alabama</td>\n",
       "      <td>AL</td>\n",
       "      <td>12152</td>\n",
       "      <td>10375</td>\n",
       "      <td>39.9</td>\n",
       "      <td>22527</td>\n",
       "      <td>46.055844</td>\n",
       "      <td>32.998628</td>\n",
       "      <td>-87.126475</td>\n",
       "    </tr>\n",
       "    <tr>\n",
       "      <th>4</th>\n",
       "      <td>1009</td>\n",
       "      <td>Blount County</td>\n",
       "      <td>Alabama</td>\n",
       "      <td>AL</td>\n",
       "      <td>28434</td>\n",
       "      <td>29211</td>\n",
       "      <td>40.8</td>\n",
       "      <td>57645</td>\n",
       "      <td>50.673953</td>\n",
       "      <td>33.980869</td>\n",
       "      <td>-86.567380</td>\n",
       "    </tr>\n",
       "  </tbody>\n",
       "</table>\n",
       "</div>"
      ],
      "text/plain": [
       "   fips          county    state state_code    male  female  median_age  \\\n",
       "0  1001  Autauga County  Alabama         AL   26874   28326        37.8   \n",
       "1  1003  Baldwin County  Alabama         AL  101188  106919        42.8   \n",
       "2  1005  Barbour County  Alabama         AL   13697   12085        39.9   \n",
       "3  1007     Bibb County  Alabama         AL   12152   10375        39.9   \n",
       "4  1009   Blount County  Alabama         AL   28434   29211        40.8   \n",
       "\n",
       "   population  female_percentage        lat       long  \n",
       "0       55200          51.315217  32.534923 -86.642730  \n",
       "1      208107          51.376936  30.727479 -87.722564  \n",
       "2       25782          46.873788  31.869581 -85.393210  \n",
       "3       22527          46.055844  32.998628 -87.126475  \n",
       "4       57645          50.673953  33.980869 -86.567380  "
      ]
     },
     "execution_count": 3,
     "metadata": {},
     "output_type": "execute_result"
    }
   ],
   "source": [
    "kaggle_demos = pd.read_csv(raw_dir/'us_county.csv')\n",
    "kaggle_demos.head()"
   ]
  },
  {
   "cell_type": "markdown",
   "metadata": {},
   "source": [
    "#### 1.3 Request IHME health data\n",
    "\n",
    "Some additional health data was downloaded from the Institute for Health Metrics and Evaluation (IHME). The data contains time series records of mortality risk and life expectancy measures across every county for several age ranges dating back to the 1980s. We cleaned and standardized this data to only include the most recent sample of county average life expectancy at birth and mortality risk for the 65 to 85 year old population (the most vulnerable to the effects of COVID-19). The data also includes a FIPS code."
   ]
  },
  {
   "cell_type": "code",
   "execution_count": 4,
   "metadata": {
    "scrolled": true
   },
   "outputs": [],
   "source": [
    "if 'ihme_health.csv' not in [_.name for _ in raw_dir.glob('*')]:\n",
    "    h_url = 'http://ghdx.healthdata.org/sites/default/files/record-attached-files/'\n",
    "    h_file = 'IHME_USA_COUNTY_LE_MORTALITY_RISK_1980_2014_NATIONAL_STATES_DC_CSV.zip'\n",
    "    r = requests.get(h_url+h_file, stream=True)\n",
    "    with open(raw_dir/'ihme_health.zip', 'wb') as fd:\n",
    "        for chunk in r.iter_content(chunk_size=128):\n",
    "            fd.write(chunk)\n",
    "    with zipfile.ZipFile(raw_dir/'ihme_health.zip', 'r') as zip_ref:\n",
    "        zip_ref.extractall(raw_dir/'imhe_health/')\n",
    "    health_pth = Path(raw_dir/'imhe_health/')\n",
    "    assert health_pth.exists(), 'no health files found'\n",
    "    files = health_pth.glob('*.csv')\n",
    "    \n",
    "    health_dfs = []\n",
    "    for f in files:\n",
    "        try:\n",
    "            df = pd.read_csv(f)\n",
    "            max_year = df.year_id.max()\n",
    "            # logic to get single rows for pivot table\n",
    "            df = df[(df.year_id == max_year) & (df.sex == \"Both\") \\\n",
    "                    & ((df.age_name == \"0\") | (df.age_name == \"65 to 85\"))]\n",
    "            pvt = pd.pivot_table(df, values = 'val', columns = 'measure_name',\n",
    "                    index=['FIPS', 'location_name']).reset_index()\n",
    "            health_dfs.append(pvt)\n",
    "        except Exception as e:\n",
    "            print(e); continue\n",
    "            \n",
    "    health = pd.concat([_ for _ in health_dfs if _.shape[0] > 1])\n",
    "    health.to_csv(raw_dir/'ihme_health.csv')\n",
    "else:\n",
    "    health = pd.read_csv(raw_dir/'ihme_health.csv')"
   ]
  },
  {
   "cell_type": "code",
   "execution_count": 5,
   "metadata": {},
   "outputs": [
    {
     "data": {
      "text/html": [
       "<div>\n",
       "<style scoped>\n",
       "    .dataframe tbody tr th:only-of-type {\n",
       "        vertical-align: middle;\n",
       "    }\n",
       "\n",
       "    .dataframe tbody tr th {\n",
       "        vertical-align: top;\n",
       "    }\n",
       "\n",
       "    .dataframe thead th {\n",
       "        text-align: right;\n",
       "    }\n",
       "</style>\n",
       "<table border=\"1\" class=\"dataframe\">\n",
       "  <thead>\n",
       "    <tr style=\"text-align: right;\">\n",
       "      <th></th>\n",
       "      <th>Unnamed: 0</th>\n",
       "      <th>FIPS</th>\n",
       "      <th>location_name</th>\n",
       "      <th>Life expectancy</th>\n",
       "      <th>Mortality risk</th>\n",
       "    </tr>\n",
       "  </thead>\n",
       "  <tbody>\n",
       "    <tr>\n",
       "      <th>0</th>\n",
       "      <td>0</td>\n",
       "      <td>1</td>\n",
       "      <td>Alabama</td>\n",
       "      <td>75.648292</td>\n",
       "      <td>57.460523</td>\n",
       "    </tr>\n",
       "    <tr>\n",
       "      <th>1</th>\n",
       "      <td>1</td>\n",
       "      <td>1001</td>\n",
       "      <td>Autauga County</td>\n",
       "      <td>75.668023</td>\n",
       "      <td>58.373616</td>\n",
       "    </tr>\n",
       "    <tr>\n",
       "      <th>2</th>\n",
       "      <td>2</td>\n",
       "      <td>1003</td>\n",
       "      <td>Baldwin County</td>\n",
       "      <td>78.075681</td>\n",
       "      <td>50.486669</td>\n",
       "    </tr>\n",
       "    <tr>\n",
       "      <th>3</th>\n",
       "      <td>3</td>\n",
       "      <td>1005</td>\n",
       "      <td>Barbour County</td>\n",
       "      <td>75.421683</td>\n",
       "      <td>56.251879</td>\n",
       "    </tr>\n",
       "    <tr>\n",
       "      <th>4</th>\n",
       "      <td>4</td>\n",
       "      <td>1007</td>\n",
       "      <td>Bibb County</td>\n",
       "      <td>73.967404</td>\n",
       "      <td>61.110046</td>\n",
       "    </tr>\n",
       "  </tbody>\n",
       "</table>\n",
       "</div>"
      ],
      "text/plain": [
       "   Unnamed: 0  FIPS   location_name  Life expectancy  Mortality risk\n",
       "0           0     1         Alabama        75.648292       57.460523\n",
       "1           1  1001  Autauga County        75.668023       58.373616\n",
       "2           2  1003  Baldwin County        78.075681       50.486669\n",
       "3           3  1005  Barbour County        75.421683       56.251879\n",
       "4           4  1007     Bibb County        73.967404       61.110046"
      ]
     },
     "execution_count": 5,
     "metadata": {},
     "output_type": "execute_result"
    }
   ],
   "source": [
    "health.head()"
   ]
  },
  {
   "cell_type": "markdown",
   "metadata": {},
   "source": [
    "#### 1.4 Census income and race data"
   ]
  },
  {
   "cell_type": "code",
   "execution_count": 61,
   "metadata": {},
   "outputs": [
    {
     "data": {
      "text/html": [
       "<div>\n",
       "<style scoped>\n",
       "    .dataframe tbody tr th:only-of-type {\n",
       "        vertical-align: middle;\n",
       "    }\n",
       "\n",
       "    .dataframe tbody tr th {\n",
       "        vertical-align: top;\n",
       "    }\n",
       "\n",
       "    .dataframe thead th {\n",
       "        text-align: right;\n",
       "    }\n",
       "</style>\n",
       "<table border=\"1\" class=\"dataframe\">\n",
       "  <thead>\n",
       "    <tr style=\"text-align: right;\">\n",
       "      <th></th>\n",
       "      <th>fips</th>\n",
       "      <th>median_household_income</th>\n",
       "      <th>pct_black</th>\n",
       "      <th>pct_asian</th>\n",
       "      <th>pct_hispanic</th>\n",
       "      <th>pct_non_hispanic_white</th>\n",
       "      <th>pct_not_proficient_in_english</th>\n",
       "      <th>pct_rural</th>\n",
       "    </tr>\n",
       "  </thead>\n",
       "  <tbody>\n",
       "    <tr>\n",
       "      <th>0</th>\n",
       "      <td>1000</td>\n",
       "      <td>49881.0</td>\n",
       "      <td>26.5</td>\n",
       "      <td>1.5</td>\n",
       "      <td>4.4</td>\n",
       "      <td>65.4</td>\n",
       "      <td>1</td>\n",
       "      <td>41.0</td>\n",
       "    </tr>\n",
       "    <tr>\n",
       "      <th>1</th>\n",
       "      <td>1001</td>\n",
       "      <td>59338.0</td>\n",
       "      <td>19.3</td>\n",
       "      <td>1.2</td>\n",
       "      <td>3.0</td>\n",
       "      <td>74.3</td>\n",
       "      <td>1</td>\n",
       "      <td>42.0</td>\n",
       "    </tr>\n",
       "    <tr>\n",
       "      <th>2</th>\n",
       "      <td>1003</td>\n",
       "      <td>57588.0</td>\n",
       "      <td>8.8</td>\n",
       "      <td>1.2</td>\n",
       "      <td>4.6</td>\n",
       "      <td>83.1</td>\n",
       "      <td>1</td>\n",
       "      <td>42.3</td>\n",
       "    </tr>\n",
       "    <tr>\n",
       "      <th>3</th>\n",
       "      <td>1005</td>\n",
       "      <td>34382.0</td>\n",
       "      <td>48.0</td>\n",
       "      <td>0.5</td>\n",
       "      <td>4.3</td>\n",
       "      <td>45.6</td>\n",
       "      <td>2</td>\n",
       "      <td>67.8</td>\n",
       "    </tr>\n",
       "    <tr>\n",
       "      <th>4</th>\n",
       "      <td>1007</td>\n",
       "      <td>46064.0</td>\n",
       "      <td>21.1</td>\n",
       "      <td>0.2</td>\n",
       "      <td>2.6</td>\n",
       "      <td>74.6</td>\n",
       "      <td>0</td>\n",
       "      <td>68.4</td>\n",
       "    </tr>\n",
       "  </tbody>\n",
       "</table>\n",
       "</div>"
      ],
      "text/plain": [
       "   fips  median_household_income  pct_black  pct_asian  pct_hispanic  \\\n",
       "0  1000                  49881.0       26.5        1.5           4.4   \n",
       "1  1001                  59338.0       19.3        1.2           3.0   \n",
       "2  1003                  57588.0        8.8        1.2           4.6   \n",
       "3  1005                  34382.0       48.0        0.5           4.3   \n",
       "4  1007                  46064.0       21.1        0.2           2.6   \n",
       "\n",
       "   pct_non_hispanic_white  pct_not_proficient_in_english  pct_rural  \n",
       "0                    65.4                              1       41.0  \n",
       "1                    74.3                              1       42.0  \n",
       "2                    83.1                              1       42.3  \n",
       "3                    45.6                              2       67.8  \n",
       "4                    74.6                              0       68.4  "
      ]
     },
     "execution_count": 61,
     "metadata": {},
     "output_type": "execute_result"
    }
   ],
   "source": [
    "inc = pd.read_csv(raw_dir/'income_race.csv').drop(['Population', 'County', 'State'], axis=1)\n",
    "\n",
    "inc.columns = [_.replace('%','pct').strip().replace('-','_').\\\n",
    "               replace(' ', '_').lower() for _ in inc.columns]\n",
    "\n",
    "inc.head()"
   ]
  },
  {
   "cell_type": "markdown",
   "metadata": {},
   "source": [
    "#### 1.5 Census income data (alternate source)\n",
    "\n",
    "We downloaded county-level income data from the most recent Census survey (2018) and processed the data to find the estimated number of impoverished people in each county, as well as the median household income. The data again includes a FIPS code."
   ]
  },
  {
   "cell_type": "code",
   "execution_count": 62,
   "metadata": {
    "scrolled": false
   },
   "outputs": [
    {
     "data": {
      "text/html": [
       "<div>\n",
       "<style scoped>\n",
       "    .dataframe tbody tr th:only-of-type {\n",
       "        vertical-align: middle;\n",
       "    }\n",
       "\n",
       "    .dataframe tbody tr th {\n",
       "        vertical-align: top;\n",
       "    }\n",
       "\n",
       "    .dataframe thead th {\n",
       "        text-align: right;\n",
       "    }\n",
       "</style>\n",
       "<table border=\"1\" class=\"dataframe\">\n",
       "  <thead>\n",
       "    <tr style=\"text-align: right;\">\n",
       "      <th></th>\n",
       "      <th>fips_state</th>\n",
       "      <th>fips_county</th>\n",
       "      <th>all_poverty</th>\n",
       "      <th>median_hh_income</th>\n",
       "      <th>fips_county_pad</th>\n",
       "      <th>fips</th>\n",
       "    </tr>\n",
       "  </thead>\n",
       "  <tbody>\n",
       "    <tr>\n",
       "      <th>United States</th>\n",
       "      <td>00</td>\n",
       "      <td>0</td>\n",
       "      <td>44268996.0</td>\n",
       "      <td>57617.0</td>\n",
       "      <td>000</td>\n",
       "      <td>0</td>\n",
       "    </tr>\n",
       "    <tr>\n",
       "      <th>Alabama</th>\n",
       "      <td>01</td>\n",
       "      <td>0</td>\n",
       "      <td>814197.0</td>\n",
       "      <td>46309.0</td>\n",
       "      <td>000</td>\n",
       "      <td>1000</td>\n",
       "    </tr>\n",
       "    <tr>\n",
       "      <th>Autauga County</th>\n",
       "      <td>01</td>\n",
       "      <td>1</td>\n",
       "      <td>7444.0</td>\n",
       "      <td>54487.0</td>\n",
       "      <td>001</td>\n",
       "      <td>1001</td>\n",
       "    </tr>\n",
       "    <tr>\n",
       "      <th>Baldwin County</th>\n",
       "      <td>13</td>\n",
       "      <td>9</td>\n",
       "      <td>10273.0</td>\n",
       "      <td>40683.0</td>\n",
       "      <td>009</td>\n",
       "      <td>13009</td>\n",
       "    </tr>\n",
       "    <tr>\n",
       "      <th>Barbour County</th>\n",
       "      <td>54</td>\n",
       "      <td>1</td>\n",
       "      <td>3514.0</td>\n",
       "      <td>36485.0</td>\n",
       "      <td>001</td>\n",
       "      <td>54001</td>\n",
       "    </tr>\n",
       "  </tbody>\n",
       "</table>\n",
       "</div>"
      ],
      "text/plain": [
       "               fips_state fips_county  all_poverty  median_hh_income  \\\n",
       "United States          00           0   44268996.0           57617.0   \n",
       "Alabama                01           0     814197.0           46309.0   \n",
       "Autauga County         01           1       7444.0           54487.0   \n",
       "Baldwin County         13           9      10273.0           40683.0   \n",
       "Barbour County         54           1       3514.0           36485.0   \n",
       "\n",
       "               fips_county_pad   fips  \n",
       "United States              000      0  \n",
       "Alabama                    000   1000  \n",
       "Autauga County             001   1001  \n",
       "Baldwin County             009  13009  \n",
       "Barbour County             001  54001  "
      ]
     },
     "execution_count": 62,
     "metadata": {},
     "output_type": "execute_result"
    }
   ],
   "source": [
    "r = requests.get('https://www2.census.gov/programs-surveys/saipe/datasets/2016/2016-state-and-county/est16all.txt')\n",
    "t = r.text\n",
    "\n",
    "lines = t.split('\\n')\n",
    "income_dict = {}\n",
    "for l in lines:\n",
    "    name = l[193:238].strip()\n",
    "    if name == '': continue\n",
    "    fin_demos = {\n",
    "        'fips_state': l[0:2].strip(),\n",
    "        'fips_county': l[3:6].strip(),\n",
    "        'all_poverty': l[7:15].strip(),\n",
    "        'median_hh_income': l[133:139].strip()\n",
    "    }\n",
    "    income_dict[name] = fin_demos\n",
    "\n",
    "income = pd.DataFrame(income_dict).T\n",
    "def fix_fips(s):\n",
    "    if len(s) == 3: return s\n",
    "    elif len(s) == 2: return f'0{s}'\n",
    "    else: return f'00{s}'\n",
    "    \n",
    "# fix erros in Kalawao county\n",
    "income = income.replace('.', np.nan)\n",
    "income['all_poverty'] = income.all_poverty.astype(float)\n",
    "income['median_hh_income'] = income.median_hh_income.astype(float)\n",
    "\n",
    "income['fips_county_pad'] = income.fips_county.map(fix_fips)\n",
    "income['fips'] = (income.fips_state + income.fips_county_pad).astype(int)\n",
    "income.head()"
   ]
  },
  {
   "cell_type": "markdown",
   "metadata": {},
   "source": [
    "#### 1.5 Land area\n",
    "\n",
    "Finally, we pull census data for the land area (in square miles) of each county as of 2010, which is the most recent year available. The data includes the FIPS code."
   ]
  },
  {
   "cell_type": "code",
   "execution_count": 63,
   "metadata": {
    "scrolled": true
   },
   "outputs": [
    {
     "data": {
      "text/html": [
       "<div>\n",
       "<style scoped>\n",
       "    .dataframe tbody tr th:only-of-type {\n",
       "        vertical-align: middle;\n",
       "    }\n",
       "\n",
       "    .dataframe tbody tr th {\n",
       "        vertical-align: top;\n",
       "    }\n",
       "\n",
       "    .dataframe thead th {\n",
       "        text-align: right;\n",
       "    }\n",
       "</style>\n",
       "<table border=\"1\" class=\"dataframe\">\n",
       "  <thead>\n",
       "    <tr style=\"text-align: right;\">\n",
       "      <th></th>\n",
       "      <th>fips</th>\n",
       "      <th>sq_miles</th>\n",
       "    </tr>\n",
       "  </thead>\n",
       "  <tbody>\n",
       "    <tr>\n",
       "      <th>0</th>\n",
       "      <td>0</td>\n",
       "      <td>3531905.43</td>\n",
       "    </tr>\n",
       "    <tr>\n",
       "      <th>1</th>\n",
       "      <td>1000</td>\n",
       "      <td>50645.33</td>\n",
       "    </tr>\n",
       "    <tr>\n",
       "      <th>2</th>\n",
       "      <td>1001</td>\n",
       "      <td>594.44</td>\n",
       "    </tr>\n",
       "    <tr>\n",
       "      <th>3</th>\n",
       "      <td>1003</td>\n",
       "      <td>1589.78</td>\n",
       "    </tr>\n",
       "    <tr>\n",
       "      <th>4</th>\n",
       "      <td>1005</td>\n",
       "      <td>884.88</td>\n",
       "    </tr>\n",
       "  </tbody>\n",
       "</table>\n",
       "</div>"
      ],
      "text/plain": [
       "   fips    sq_miles\n",
       "0     0  3531905.43\n",
       "1  1000    50645.33\n",
       "2  1001      594.44\n",
       "3  1003     1589.78\n",
       "4  1005      884.88"
      ]
     },
     "execution_count": 63,
     "metadata": {},
     "output_type": "execute_result"
    }
   ],
   "source": [
    "landvar = 'LND110210D'\n",
    "land = pd.read_csv(raw_dir/'LND01.csv')[['STCOU', landvar]].rename(\n",
    "    columns={'STCOU':'fips', landvar:'sq_miles'})\n",
    "land.head()"
   ]
  },
  {
   "cell_type": "markdown",
   "metadata": {},
   "source": [
    "#### 1.6 Education"
   ]
  },
  {
   "cell_type": "code",
   "execution_count": 64,
   "metadata": {},
   "outputs": [],
   "source": [
    "ed = pd.read_csv(raw_dir/'Education.csv')\n",
    "ed.columns = 'fips state name pct_none pct_hs pct_associates pct_bachelors'.split()"
   ]
  },
  {
   "cell_type": "code",
   "execution_count": 65,
   "metadata": {
    "scrolled": true
   },
   "outputs": [
    {
     "data": {
      "text/html": [
       "<div>\n",
       "<style scoped>\n",
       "    .dataframe tbody tr th:only-of-type {\n",
       "        vertical-align: middle;\n",
       "    }\n",
       "\n",
       "    .dataframe tbody tr th {\n",
       "        vertical-align: top;\n",
       "    }\n",
       "\n",
       "    .dataframe thead th {\n",
       "        text-align: right;\n",
       "    }\n",
       "</style>\n",
       "<table border=\"1\" class=\"dataframe\">\n",
       "  <thead>\n",
       "    <tr style=\"text-align: right;\">\n",
       "      <th></th>\n",
       "      <th>fips</th>\n",
       "      <th>pct_none</th>\n",
       "      <th>pct_hs</th>\n",
       "      <th>pct_associates</th>\n",
       "      <th>pct_bachelors</th>\n",
       "    </tr>\n",
       "  </thead>\n",
       "  <tbody>\n",
       "    <tr>\n",
       "      <th>fips</th>\n",
       "      <td>1.000000</td>\n",
       "      <td>0.122653</td>\n",
       "      <td>-0.030274</td>\n",
       "      <td>-0.150678</td>\n",
       "      <td>0.022159</td>\n",
       "    </tr>\n",
       "    <tr>\n",
       "      <th>pct_none</th>\n",
       "      <td>0.122653</td>\n",
       "      <td>1.000000</td>\n",
       "      <td>0.204862</td>\n",
       "      <td>-0.519260</td>\n",
       "      <td>-0.568119</td>\n",
       "    </tr>\n",
       "    <tr>\n",
       "      <th>pct_hs</th>\n",
       "      <td>-0.030274</td>\n",
       "      <td>0.204862</td>\n",
       "      <td>1.000000</td>\n",
       "      <td>-0.241783</td>\n",
       "      <td>-0.770788</td>\n",
       "    </tr>\n",
       "    <tr>\n",
       "      <th>pct_associates</th>\n",
       "      <td>-0.150678</td>\n",
       "      <td>-0.519260</td>\n",
       "      <td>-0.241783</td>\n",
       "      <td>1.000000</td>\n",
       "      <td>-0.017137</td>\n",
       "    </tr>\n",
       "    <tr>\n",
       "      <th>pct_bachelors</th>\n",
       "      <td>0.022159</td>\n",
       "      <td>-0.568119</td>\n",
       "      <td>-0.770788</td>\n",
       "      <td>-0.017137</td>\n",
       "      <td>1.000000</td>\n",
       "    </tr>\n",
       "  </tbody>\n",
       "</table>\n",
       "</div>"
      ],
      "text/plain": [
       "                    fips  pct_none    pct_hs  pct_associates  pct_bachelors\n",
       "fips            1.000000  0.122653 -0.030274       -0.150678       0.022159\n",
       "pct_none        0.122653  1.000000  0.204862       -0.519260      -0.568119\n",
       "pct_hs         -0.030274  0.204862  1.000000       -0.241783      -0.770788\n",
       "pct_associates -0.150678 -0.519260 -0.241783        1.000000      -0.017137\n",
       "pct_bachelors   0.022159 -0.568119 -0.770788       -0.017137       1.000000"
      ]
     },
     "execution_count": 65,
     "metadata": {},
     "output_type": "execute_result"
    }
   ],
   "source": [
    "ed.corr()"
   ]
  },
  {
   "cell_type": "markdown",
   "metadata": {},
   "source": [
    "#### 1.6 Merge\n",
    "\n",
    "We merge all of these datasets on FIPS code."
   ]
  },
  {
   "cell_type": "code",
   "execution_count": 66,
   "metadata": {},
   "outputs": [
    {
     "data": {
      "text/html": [
       "<div>\n",
       "<style scoped>\n",
       "    .dataframe tbody tr th:only-of-type {\n",
       "        vertical-align: middle;\n",
       "    }\n",
       "\n",
       "    .dataframe tbody tr th {\n",
       "        vertical-align: top;\n",
       "    }\n",
       "\n",
       "    .dataframe thead th {\n",
       "        text-align: right;\n",
       "    }\n",
       "</style>\n",
       "<table border=\"1\" class=\"dataframe\">\n",
       "  <thead>\n",
       "    <tr style=\"text-align: right;\">\n",
       "      <th></th>\n",
       "      <th>fips</th>\n",
       "      <th>county</th>\n",
       "      <th>state</th>\n",
       "      <th>state_code</th>\n",
       "      <th>male</th>\n",
       "      <th>female</th>\n",
       "      <th>median_age</th>\n",
       "      <th>population</th>\n",
       "      <th>female_percentage</th>\n",
       "      <th>lat</th>\n",
       "      <th>...</th>\n",
       "      <th>pct_none</th>\n",
       "      <th>pct_hs</th>\n",
       "      <th>pct_bachelors</th>\n",
       "      <th>median_household_income</th>\n",
       "      <th>pct_black</th>\n",
       "      <th>pct_asian</th>\n",
       "      <th>pct_hispanic</th>\n",
       "      <th>pct_non_hispanic_white</th>\n",
       "      <th>pct_not_proficient_in_english</th>\n",
       "      <th>pct_rural</th>\n",
       "    </tr>\n",
       "  </thead>\n",
       "  <tbody>\n",
       "    <tr>\n",
       "      <th>0</th>\n",
       "      <td>1001</td>\n",
       "      <td>Autauga County</td>\n",
       "      <td>Alabama</td>\n",
       "      <td>AL</td>\n",
       "      <td>26874</td>\n",
       "      <td>28326</td>\n",
       "      <td>37.8</td>\n",
       "      <td>55200</td>\n",
       "      <td>51.315217</td>\n",
       "      <td>32.534923</td>\n",
       "      <td>...</td>\n",
       "      <td>11.3</td>\n",
       "      <td>32.6</td>\n",
       "      <td>27.7</td>\n",
       "      <td>59338.0</td>\n",
       "      <td>19.3</td>\n",
       "      <td>1.2</td>\n",
       "      <td>3.0</td>\n",
       "      <td>74.3</td>\n",
       "      <td>1</td>\n",
       "      <td>42.0</td>\n",
       "    </tr>\n",
       "    <tr>\n",
       "      <th>1</th>\n",
       "      <td>1003</td>\n",
       "      <td>Baldwin County</td>\n",
       "      <td>Alabama</td>\n",
       "      <td>AL</td>\n",
       "      <td>101188</td>\n",
       "      <td>106919</td>\n",
       "      <td>42.8</td>\n",
       "      <td>208107</td>\n",
       "      <td>51.376936</td>\n",
       "      <td>30.727479</td>\n",
       "      <td>...</td>\n",
       "      <td>9.7</td>\n",
       "      <td>27.6</td>\n",
       "      <td>31.3</td>\n",
       "      <td>57588.0</td>\n",
       "      <td>8.8</td>\n",
       "      <td>1.2</td>\n",
       "      <td>4.6</td>\n",
       "      <td>83.1</td>\n",
       "      <td>1</td>\n",
       "      <td>42.3</td>\n",
       "    </tr>\n",
       "    <tr>\n",
       "      <th>2</th>\n",
       "      <td>1005</td>\n",
       "      <td>Barbour County</td>\n",
       "      <td>Alabama</td>\n",
       "      <td>AL</td>\n",
       "      <td>13697</td>\n",
       "      <td>12085</td>\n",
       "      <td>39.9</td>\n",
       "      <td>25782</td>\n",
       "      <td>46.873788</td>\n",
       "      <td>31.869581</td>\n",
       "      <td>...</td>\n",
       "      <td>27.0</td>\n",
       "      <td>35.7</td>\n",
       "      <td>12.2</td>\n",
       "      <td>34382.0</td>\n",
       "      <td>48.0</td>\n",
       "      <td>0.5</td>\n",
       "      <td>4.3</td>\n",
       "      <td>45.6</td>\n",
       "      <td>2</td>\n",
       "      <td>67.8</td>\n",
       "    </tr>\n",
       "    <tr>\n",
       "      <th>3</th>\n",
       "      <td>1007</td>\n",
       "      <td>Bibb County</td>\n",
       "      <td>Alabama</td>\n",
       "      <td>AL</td>\n",
       "      <td>12152</td>\n",
       "      <td>10375</td>\n",
       "      <td>39.9</td>\n",
       "      <td>22527</td>\n",
       "      <td>46.055844</td>\n",
       "      <td>32.998628</td>\n",
       "      <td>...</td>\n",
       "      <td>16.8</td>\n",
       "      <td>47.3</td>\n",
       "      <td>11.5</td>\n",
       "      <td>46064.0</td>\n",
       "      <td>21.1</td>\n",
       "      <td>0.2</td>\n",
       "      <td>2.6</td>\n",
       "      <td>74.6</td>\n",
       "      <td>0</td>\n",
       "      <td>68.4</td>\n",
       "    </tr>\n",
       "    <tr>\n",
       "      <th>4</th>\n",
       "      <td>1009</td>\n",
       "      <td>Blount County</td>\n",
       "      <td>Alabama</td>\n",
       "      <td>AL</td>\n",
       "      <td>28434</td>\n",
       "      <td>29211</td>\n",
       "      <td>40.8</td>\n",
       "      <td>57645</td>\n",
       "      <td>50.673953</td>\n",
       "      <td>33.980869</td>\n",
       "      <td>...</td>\n",
       "      <td>19.8</td>\n",
       "      <td>34.0</td>\n",
       "      <td>12.6</td>\n",
       "      <td>50412.0</td>\n",
       "      <td>1.5</td>\n",
       "      <td>0.3</td>\n",
       "      <td>9.6</td>\n",
       "      <td>86.9</td>\n",
       "      <td>2</td>\n",
       "      <td>90.0</td>\n",
       "    </tr>\n",
       "  </tbody>\n",
       "</table>\n",
       "<p>5 rows × 25 columns</p>\n",
       "</div>"
      ],
      "text/plain": [
       "   fips          county    state state_code    male  female  median_age  \\\n",
       "0  1001  Autauga County  Alabama         AL   26874   28326        37.8   \n",
       "1  1003  Baldwin County  Alabama         AL  101188  106919        42.8   \n",
       "2  1005  Barbour County  Alabama         AL   13697   12085        39.9   \n",
       "3  1007     Bibb County  Alabama         AL   12152   10375        39.9   \n",
       "4  1009   Blount County  Alabama         AL   28434   29211        40.8   \n",
       "\n",
       "   population  female_percentage        lat  ...  pct_none  pct_hs  \\\n",
       "0       55200          51.315217  32.534923  ...      11.3    32.6   \n",
       "1      208107          51.376936  30.727479  ...       9.7    27.6   \n",
       "2       25782          46.873788  31.869581  ...      27.0    35.7   \n",
       "3       22527          46.055844  32.998628  ...      16.8    47.3   \n",
       "4       57645          50.673953  33.980869  ...      19.8    34.0   \n",
       "\n",
       "   pct_bachelors  median_household_income  pct_black  pct_asian  pct_hispanic  \\\n",
       "0           27.7                  59338.0       19.3        1.2           3.0   \n",
       "1           31.3                  57588.0        8.8        1.2           4.6   \n",
       "2           12.2                  34382.0       48.0        0.5           4.3   \n",
       "3           11.5                  46064.0       21.1        0.2           2.6   \n",
       "4           12.6                  50412.0        1.5        0.3           9.6   \n",
       "\n",
       "   pct_non_hispanic_white  pct_not_proficient_in_english  pct_rural  \n",
       "0                    74.3                              1       42.0  \n",
       "1                    83.1                              1       42.3  \n",
       "2                    45.6                              2       67.8  \n",
       "3                    74.6                              0       68.4  \n",
       "4                    86.9                              2       90.0  \n",
       "\n",
       "[5 rows x 25 columns]"
      ]
     },
     "execution_count": 66,
     "metadata": {},
     "output_type": "execute_result"
    }
   ],
   "source": [
    "demos = pd.merge(\n",
    "    kaggle_demos, health.set_index('FIPS')[['Life expectancy', 'Mortality risk']],\n",
    "    left_on='fips', right_index=True).merge(\n",
    "        income.set_index('fips')[['all_poverty']], 'left',\n",
    "        left_on='fips', right_index=True).merge(\n",
    "            land.set_index('fips'), left_on='fips', right_index=True).merge(\n",
    "        ed.set_index('fips')[['pct_none', 'pct_hs', 'pct_bachelors']],\n",
    "            left_on='fips', right_index=True).merge(\n",
    "        inc.set_index('fips'), left_on='fips', right_index=True)\n",
    "\n",
    "def fix_colname(s): return s.lower().strip().replace(' ', '_')\n",
    "demos.columns = [fix_colname(_) for _ in demos.columns]\n",
    "demos.head()"
   ]
  },
  {
   "cell_type": "markdown",
   "metadata": {},
   "source": [
    "#### 1.7 Enrich\n",
    "\n",
    "We engineer two features that we intuitively believe may have some relationship to the spread of COVID-19. The first is related to the rate at which the population is impoverished. We have estimates from Census of the total number of inhabitants living below the poverty line, but here we standardize by the population of the county to arrive at an estimate of the percent of the county that is impoverished. We also use the population variable and the estimated land area variable to determine the population density in terms of inhabitants per square mile."
   ]
  },
  {
   "cell_type": "markdown",
   "metadata": {},
   "source": [
    "Save the data to the processed data directory for use in modeling."
   ]
  },
  {
   "cell_type": "code",
   "execution_count": 67,
   "metadata": {},
   "outputs": [],
   "source": [
    "demos['pct_impoverished'] = demos.all_poverty.div(demos.population)\n",
    "demos['pop_density'] = demos.population.div(demos.sq_miles)"
   ]
  },
  {
   "cell_type": "code",
   "execution_count": 68,
   "metadata": {},
   "outputs": [],
   "source": [
    "demos.to_csv(processed_dir/'demographic_data.csv', index=False)"
   ]
  },
  {
   "cell_type": "markdown",
   "metadata": {},
   "source": [
    "## 2. Data understanding\n",
    "We'll visualize some key features to get a better understanding of the demographic data."
   ]
  },
  {
   "cell_type": "code",
   "execution_count": 69,
   "metadata": {},
   "outputs": [],
   "source": [
    "features = 'median_age female_percentage life_expectancy mortality_risk \\\n",
    "median_household_income pct_impoverished pop_density'.split()"
   ]
  },
  {
   "cell_type": "code",
   "execution_count": 70,
   "metadata": {
    "scrolled": false
   },
   "outputs": [
    {
     "data": {
      "image/png": "[encoded data removed]",
      "text/plain": [
       "<Figure size 432x432 with 4 Axes>"
      ]
     },
     "metadata": {
      "needs_background": "light"
     },
     "output_type": "display_data"
    }
   ],
   "source": [
    "cm = sns.clustermap(demos[features].corr(method='spearman'), annot=True, fmt='.1f', linewidths=0.5,\n",
    "              mask=np.eye(len(features)), cmap='RdYlGn', dendrogram_ratio=.1,\n",
    "              figsize=(6,6), cbar=False)\n",
    "cm.fig.subplots_adjust(top=.9)\n",
    "cm.cax.set_visible(False)\n",
    "cm.fig.suptitle('Hierarchical cluster of key demographic features')\n",
    "plt.show()"
   ]
  },
  {
   "cell_type": "code",
   "execution_count": 71,
   "metadata": {
    "scrolled": false
   },
   "outputs": [
    {
     "data": {
      "image/png": "[encoded data removed]",
      "text/plain": [
       "<Figure size 432x288 with 1 Axes>"
      ]
     },
     "metadata": {
      "needs_background": "light"
     },
     "output_type": "display_data"
    }
   ],
   "source": [
    "demos.pct_impoverished.hist()\n",
    "plt.title('Histogram of population poverty rate by county')\n",
    "plt.show()"
   ]
  },
  {
   "cell_type": "code",
   "execution_count": 72,
   "metadata": {},
   "outputs": [
    {
     "name": "stdout",
     "output_type": "stream",
     "text": [
      "R2 score of poverty and mortality risk is 0.323\n"
     ]
    },
    {
     "data": {
      "image/png": "[encoded data removed]",
      "text/plain": [
       "<Figure size 432x288 with 1 Axes>"
      ]
     },
     "metadata": {
      "needs_background": "light"
     },
     "output_type": "display_data"
    }
   ],
   "source": [
    "demos.plot.scatter('pct_impoverished', 'mortality_risk', alpha=0.3)\n",
    "plt.xlabel('Percent of county living in poverty')\n",
    "plt.ylabel('Estimated mortality risk')\n",
    "plt.title('Relationship between poverty and mortality risk')\n",
    "\n",
    "X = demos.dropna()\n",
    "lm = LinearRegression().fit(X.pct_impoverished.values.reshape(-1,1), X.mortality_risk)\n",
    "xs = np.linspace(0, 0.5)\n",
    "ys = lm.predict(xs.reshape(-1,1))\n",
    "r2 = lm.score(X.pct_impoverished.values.reshape(-1,1), X.mortality_risk)\n",
    "print(f\"R2 score of poverty and mortality risk is {r2:.3f}\")\n",
    "plt.plot(xs,ys, color='black')\n",
    "plt.legend([f'$R^2 = {r2:.2f}$', 'Samples'])\n",
    "plt.show()"
   ]
  },
  {
   "cell_type": "code",
   "execution_count": 73,
   "metadata": {},
   "outputs": [
    {
     "data": {
      "image/png": "[encoded data removed]",
      "text/plain": [
       "<Figure size 432x288 with 1 Axes>"
      ]
     },
     "metadata": {
      "needs_background": "light"
     },
     "output_type": "display_data"
    }
   ],
   "source": [
    "demos.plot.scatter('pop_density', 'median_household_income', alpha=0.3)\n",
    "plt.xscale('log'); plt.yscale('log')\n",
    "plt.xlabel('Log population density')\n",
    "plt.xlabel('Log median household income')\n",
    "plt.title('Relationship between poverty and mortality risk'); plt.show()"
   ]
  },
  {
   "cell_type": "code",
   "execution_count": null,
   "metadata": {},
   "outputs": [],
   "source": []
  }
 ],
 "metadata": {
  "kernelspec": {
   "display_name": "Python 3",
   "language": "python",
   "name": "python3"
  },
  "language_info": {
   "codemirror_mode": {
    "name": "ipython",
    "version": 3
   },
   "file_extension": ".py",
   "mimetype": "text/x-python",
   "name": "python",
   "nbconvert_exporter": "python",
   "pygments_lexer": "ipython3",
   "version": "3.7.6"
  }
 },
 "nbformat": 4,
 "nbformat_minor": 4
}
