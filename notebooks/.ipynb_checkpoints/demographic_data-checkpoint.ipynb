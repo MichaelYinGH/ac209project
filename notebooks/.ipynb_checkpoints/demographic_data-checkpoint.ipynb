{
 "cells": [
  {
   "cell_type": "code",
   "execution_count": 1,
   "metadata": {},
   "outputs": [],
   "source": [
    "import pandas as pd, numpy as np, matplotlib.pyplot as plt, requests, censusdata, zipfile\n",
    "from pathlib import Path"
   ]
  },
  {
   "cell_type": "markdown",
   "metadata": {},
   "source": [
    "####  Set raw and processed data directories"
   ]
  },
  {
   "cell_type": "code",
   "execution_count": 2,
   "metadata": {},
   "outputs": [
    {
     "data": {
      "text/plain": [
       "'C:\\\\Users\\\\nicho\\\\Documents\\\\ac209project\\\\notebooks'"
      ]
     },
     "execution_count": 2,
     "metadata": {},
     "output_type": "execute_result"
    }
   ],
   "source": [
    "pwd"
   ]
  },
  {
   "cell_type": "code",
   "execution_count": 4,
   "metadata": {},
   "outputs": [
    {
     "data": {
      "text/plain": [
       "True"
      ]
     },
     "execution_count": 4,
     "metadata": {},
     "output_type": "execute_result"
    }
   ],
   "source": [
    "raw_dir = Path('../raw_data/')\n",
    "processed_dir = Path('../processed_data/')\n",
    "\n",
    "assert(raw_dir.exists() & processed_dir.exists()), 'data directories not valid'"
   ]
  },
  {
   "cell_type": "markdown",
   "metadata": {},
   "source": [
    "#### Pull downloaded Kaggle data (requires auth) "
   ]
  },
  {
   "cell_type": "code",
   "execution_count": 5,
   "metadata": {},
   "outputs": [
    {
     "data": {
      "text/html": [
       "<div>\n",
       "<style scoped>\n",
       "    .dataframe tbody tr th:only-of-type {\n",
       "        vertical-align: middle;\n",
       "    }\n",
       "\n",
       "    .dataframe tbody tr th {\n",
       "        vertical-align: top;\n",
       "    }\n",
       "\n",
       "    .dataframe thead th {\n",
       "        text-align: right;\n",
       "    }\n",
       "</style>\n",
       "<table border=\"1\" class=\"dataframe\">\n",
       "  <thead>\n",
       "    <tr style=\"text-align: right;\">\n",
       "      <th></th>\n",
       "      <th>fips</th>\n",
       "      <th>county</th>\n",
       "      <th>state</th>\n",
       "      <th>state_code</th>\n",
       "      <th>male</th>\n",
       "      <th>female</th>\n",
       "      <th>median_age</th>\n",
       "      <th>population</th>\n",
       "      <th>female_percentage</th>\n",
       "      <th>lat</th>\n",
       "      <th>long</th>\n",
       "    </tr>\n",
       "  </thead>\n",
       "  <tbody>\n",
       "    <tr>\n",
       "      <th>0</th>\n",
       "      <td>1001</td>\n",
       "      <td>Autauga County</td>\n",
       "      <td>Alabama</td>\n",
       "      <td>AL</td>\n",
       "      <td>26874</td>\n",
       "      <td>28326</td>\n",
       "      <td>37.8</td>\n",
       "      <td>55200</td>\n",
       "      <td>51.315217</td>\n",
       "      <td>32.534923</td>\n",
       "      <td>-86.642730</td>\n",
       "    </tr>\n",
       "    <tr>\n",
       "      <th>1</th>\n",
       "      <td>1003</td>\n",
       "      <td>Baldwin County</td>\n",
       "      <td>Alabama</td>\n",
       "      <td>AL</td>\n",
       "      <td>101188</td>\n",
       "      <td>106919</td>\n",
       "      <td>42.8</td>\n",
       "      <td>208107</td>\n",
       "      <td>51.376936</td>\n",
       "      <td>30.727479</td>\n",
       "      <td>-87.722564</td>\n",
       "    </tr>\n",
       "    <tr>\n",
       "      <th>2</th>\n",
       "      <td>1005</td>\n",
       "      <td>Barbour County</td>\n",
       "      <td>Alabama</td>\n",
       "      <td>AL</td>\n",
       "      <td>13697</td>\n",
       "      <td>12085</td>\n",
       "      <td>39.9</td>\n",
       "      <td>25782</td>\n",
       "      <td>46.873788</td>\n",
       "      <td>31.869581</td>\n",
       "      <td>-85.393210</td>\n",
       "    </tr>\n",
       "    <tr>\n",
       "      <th>3</th>\n",
       "      <td>1007</td>\n",
       "      <td>Bibb County</td>\n",
       "      <td>Alabama</td>\n",
       "      <td>AL</td>\n",
       "      <td>12152</td>\n",
       "      <td>10375</td>\n",
       "      <td>39.9</td>\n",
       "      <td>22527</td>\n",
       "      <td>46.055844</td>\n",
       "      <td>32.998628</td>\n",
       "      <td>-87.126475</td>\n",
       "    </tr>\n",
       "    <tr>\n",
       "      <th>4</th>\n",
       "      <td>1009</td>\n",
       "      <td>Blount County</td>\n",
       "      <td>Alabama</td>\n",
       "      <td>AL</td>\n",
       "      <td>28434</td>\n",
       "      <td>29211</td>\n",
       "      <td>40.8</td>\n",
       "      <td>57645</td>\n",
       "      <td>50.673953</td>\n",
       "      <td>33.980869</td>\n",
       "      <td>-86.567380</td>\n",
       "    </tr>\n",
       "  </tbody>\n",
       "</table>\n",
       "</div>"
      ],
      "text/plain": [
       "   fips          county    state state_code    male  female  median_age  \\\n",
       "0  1001  Autauga County  Alabama         AL   26874   28326        37.8   \n",
       "1  1003  Baldwin County  Alabama         AL  101188  106919        42.8   \n",
       "2  1005  Barbour County  Alabama         AL   13697   12085        39.9   \n",
       "3  1007     Bibb County  Alabama         AL   12152   10375        39.9   \n",
       "4  1009   Blount County  Alabama         AL   28434   29211        40.8   \n",
       "\n",
       "   population  female_percentage        lat       long  \n",
       "0       55200          51.315217  32.534923 -86.642730  \n",
       "1      208107          51.376936  30.727479 -87.722564  \n",
       "2       25782          46.873788  31.869581 -85.393210  \n",
       "3       22527          46.055844  32.998628 -87.126475  \n",
       "4       57645          50.673953  33.980869 -86.567380  "
      ]
     },
     "execution_count": 5,
     "metadata": {},
     "output_type": "execute_result"
    }
   ],
   "source": [
    "kaggle_demos = pd.read_csv(raw_dir/'us_county.csv')\n",
    "kaggle_demos.head()"
   ]
  },
  {
   "cell_type": "markdown",
   "metadata": {},
   "source": [
    "#### Request IHME health data"
   ]
  },
  {
   "cell_type": "code",
   "execution_count": 6,
   "metadata": {
    "scrolled": true
   },
   "outputs": [
    {
     "name": "stdout",
     "output_type": "stream",
     "text": [
      "'>=' not supported between instances of 'str' and 'float'\n"
     ]
    }
   ],
   "source": [
    "if 'ihme_health.csv' not in [_.name for _ in raw_dir.glob('*')]:\n",
    "    h_url = 'http://ghdx.healthdata.org/sites/default/files/record-attached-files/'\n",
    "    h_file = 'IHME_USA_COUNTY_LE_MORTALITY_RISK_1980_2014_NATIONAL_STATES_DC_CSV.zip'\n",
    "    r = requests.get(h_url+h_file, stream=True)\n",
    "    with open(raw_dir/'ihme_health.zip', 'wb') as fd:\n",
    "        for chunk in r.iter_content(chunk_size=128):\n",
    "            fd.write(chunk)\n",
    "    with zipfile.ZipFile(raw_dir/'ihme_health.zip', 'r') as zip_ref:\n",
    "        zip_ref.extractall(raw_dir/'imhe_health/')\n",
    "    health_pth = Path(raw_dir/'imhe_health/')\n",
    "    assert health_pth.exists(), 'no health files found'\n",
    "    files = health_pth.glob('*.csv')\n",
    "    \n",
    "    health_dfs = []\n",
    "    for f in files:\n",
    "        try:\n",
    "            df = pd.read_csv(f)\n",
    "            max_year = df.year_id.max()\n",
    "            # logic to get single rows for pivot table\n",
    "            df = df[(df.year_id == max_year) & (df.sex == \"Both\") \\\n",
    "                    & ((df.age_name == \"0\") | (df.age_name == \"65 to 85\"))]\n",
    "            pvt = pd.pivot_table(df, values = 'val', columns = 'measure_name',\n",
    "                    index=['FIPS', 'location_name']).reset_index()\n",
    "            health_dfs.append(pvt)\n",
    "        except Exception as e:\n",
    "            print(e); continue\n",
    "            \n",
    "    health = pd.concat([_ for _ in health_dfs if _.shape[0] > 1])\n",
    "    health.to_csv(raw_dir/'ihme_health.csv')\n",
    "else:\n",
    "    health = pd.read_csv(raw_dir/'ihme_health.csv')"
   ]
  },
  {
   "cell_type": "code",
   "execution_count": 7,
   "metadata": {},
   "outputs": [
    {
     "data": {
      "text/html": [
       "<div>\n",
       "<style scoped>\n",
       "    .dataframe tbody tr th:only-of-type {\n",
       "        vertical-align: middle;\n",
       "    }\n",
       "\n",
       "    .dataframe tbody tr th {\n",
       "        vertical-align: top;\n",
       "    }\n",
       "\n",
       "    .dataframe thead th {\n",
       "        text-align: right;\n",
       "    }\n",
       "</style>\n",
       "<table border=\"1\" class=\"dataframe\">\n",
       "  <thead>\n",
       "    <tr style=\"text-align: right;\">\n",
       "      <th>measure_name</th>\n",
       "      <th>FIPS</th>\n",
       "      <th>location_name</th>\n",
       "      <th>Life expectancy</th>\n",
       "      <th>Mortality risk</th>\n",
       "    </tr>\n",
       "  </thead>\n",
       "  <tbody>\n",
       "    <tr>\n",
       "      <th>0</th>\n",
       "      <td>1</td>\n",
       "      <td>Alabama</td>\n",
       "      <td>75.648292</td>\n",
       "      <td>57.460523</td>\n",
       "    </tr>\n",
       "    <tr>\n",
       "      <th>1</th>\n",
       "      <td>1001</td>\n",
       "      <td>Autauga County</td>\n",
       "      <td>75.668023</td>\n",
       "      <td>58.373616</td>\n",
       "    </tr>\n",
       "    <tr>\n",
       "      <th>2</th>\n",
       "      <td>1003</td>\n",
       "      <td>Baldwin County</td>\n",
       "      <td>78.075681</td>\n",
       "      <td>50.486669</td>\n",
       "    </tr>\n",
       "    <tr>\n",
       "      <th>3</th>\n",
       "      <td>1005</td>\n",
       "      <td>Barbour County</td>\n",
       "      <td>75.421683</td>\n",
       "      <td>56.251879</td>\n",
       "    </tr>\n",
       "    <tr>\n",
       "      <th>4</th>\n",
       "      <td>1007</td>\n",
       "      <td>Bibb County</td>\n",
       "      <td>73.967404</td>\n",
       "      <td>61.110046</td>\n",
       "    </tr>\n",
       "  </tbody>\n",
       "</table>\n",
       "</div>"
      ],
      "text/plain": [
       "measure_name  FIPS   location_name  Life expectancy  Mortality risk\n",
       "0                1         Alabama        75.648292       57.460523\n",
       "1             1001  Autauga County        75.668023       58.373616\n",
       "2             1003  Baldwin County        78.075681       50.486669\n",
       "3             1005  Barbour County        75.421683       56.251879\n",
       "4             1007     Bibb County        73.967404       61.110046"
      ]
     },
     "execution_count": 7,
     "metadata": {},
     "output_type": "execute_result"
    }
   ],
   "source": [
    "health.head()"
   ]
  },
  {
   "cell_type": "markdown",
   "metadata": {},
   "source": [
    "#### Census income data"
   ]
  },
  {
   "cell_type": "code",
   "execution_count": 8,
   "metadata": {},
   "outputs": [
    {
     "data": {
      "text/html": [
       "<div>\n",
       "<style scoped>\n",
       "    .dataframe tbody tr th:only-of-type {\n",
       "        vertical-align: middle;\n",
       "    }\n",
       "\n",
       "    .dataframe tbody tr th {\n",
       "        vertical-align: top;\n",
       "    }\n",
       "\n",
       "    .dataframe thead th {\n",
       "        text-align: right;\n",
       "    }\n",
       "</style>\n",
       "<table border=\"1\" class=\"dataframe\">\n",
       "  <thead>\n",
       "    <tr style=\"text-align: right;\">\n",
       "      <th></th>\n",
       "      <th>fips_state</th>\n",
       "      <th>fips_county</th>\n",
       "      <th>all_poverty</th>\n",
       "      <th>median_hh_income</th>\n",
       "      <th>fips_county_pad</th>\n",
       "      <th>fips</th>\n",
       "    </tr>\n",
       "  </thead>\n",
       "  <tbody>\n",
       "    <tr>\n",
       "      <th>United States</th>\n",
       "      <td>00</td>\n",
       "      <td>0</td>\n",
       "      <td>41852315.0</td>\n",
       "      <td>61937.0</td>\n",
       "      <td>000</td>\n",
       "      <td>0</td>\n",
       "    </tr>\n",
       "    <tr>\n",
       "      <th>Alabama</th>\n",
       "      <td>01</td>\n",
       "      <td>0</td>\n",
       "      <td>801758.0</td>\n",
       "      <td>49881.0</td>\n",
       "      <td>000</td>\n",
       "      <td>1000</td>\n",
       "    </tr>\n",
       "    <tr>\n",
       "      <th>Autauga County</th>\n",
       "      <td>01</td>\n",
       "      <td>1</td>\n",
       "      <td>7587.0</td>\n",
       "      <td>59338.0</td>\n",
       "      <td>001</td>\n",
       "      <td>1001</td>\n",
       "    </tr>\n",
       "    <tr>\n",
       "      <th>Baldwin County</th>\n",
       "      <td>13</td>\n",
       "      <td>9</td>\n",
       "      <td>9313.0</td>\n",
       "      <td>42727.0</td>\n",
       "      <td>009</td>\n",
       "      <td>13009</td>\n",
       "    </tr>\n",
       "    <tr>\n",
       "      <th>Barbour County</th>\n",
       "      <td>54</td>\n",
       "      <td>1</td>\n",
       "      <td>3110.0</td>\n",
       "      <td>39776.0</td>\n",
       "      <td>001</td>\n",
       "      <td>54001</td>\n",
       "    </tr>\n",
       "  </tbody>\n",
       "</table>\n",
       "</div>"
      ],
      "text/plain": [
       "               fips_state fips_county  all_poverty  median_hh_income  \\\n",
       "United States          00           0   41852315.0           61937.0   \n",
       "Alabama                01           0     801758.0           49881.0   \n",
       "Autauga County         01           1       7587.0           59338.0   \n",
       "Baldwin County         13           9       9313.0           42727.0   \n",
       "Barbour County         54           1       3110.0           39776.0   \n",
       "\n",
       "               fips_county_pad   fips  \n",
       "United States              000      0  \n",
       "Alabama                    000   1000  \n",
       "Autauga County             001   1001  \n",
       "Baldwin County             009  13009  \n",
       "Barbour County             001  54001  "
      ]
     },
     "execution_count": 8,
     "metadata": {},
     "output_type": "execute_result"
    }
   ],
   "source": [
    "r = requests.get('https://www2.census.gov/programs-surveys/saipe/datasets/2018/2018-state-and-county/est18all.txt')\n",
    "t = r.text\n",
    "\n",
    "lines = t.split('\\n')\n",
    "income_dict = {}\n",
    "for l in lines:\n",
    "    name = l[193:238].strip()\n",
    "    if name == '': continue\n",
    "    fin_demos = {\n",
    "        'fips_state': l[0:2].strip(),\n",
    "        'fips_county': l[3:6].strip(),\n",
    "        'all_poverty': l[7:15].strip(),\n",
    "        'median_hh_income': l[133:139].strip()\n",
    "    }\n",
    "    income_dict[name] = fin_demos\n",
    "\n",
    "income = pd.DataFrame(income_dict).T\n",
    "def fix_fips(s):\n",
    "    if len(s) == 3: return s\n",
    "    elif len(s) == 2: return f'0{s}'\n",
    "    else: return f'00{s}'\n",
    "    \n",
    "# fix erros in Kalawao county\n",
    "income = income.replace('.', np.nan)\n",
    "income['all_poverty'] = income.all_poverty.astype(float)\n",
    "income['median_hh_income'] = income.median_hh_income.astype(float)\n",
    "\n",
    "income['fips_county_pad'] = income.fips_county.map(fix_fips)\n",
    "income['fips'] = (income.fips_state + income.fips_county_pad).astype(int)\n",
    "income.head()"
   ]
  },
  {
   "cell_type": "markdown",
   "metadata": {},
   "source": [
    "#### Merge"
   ]
  },
  {
   "cell_type": "code",
   "execution_count": 9,
   "metadata": {},
   "outputs": [],
   "source": [
    "demos = pd.merge(\n",
    "    kaggle_demos, health.set_index('FIPS')[['Life expectancy', 'Mortality risk']],\n",
    "    left_on='fips', right_index=True).merge(\n",
    "        income.set_index('fips')[['all_poverty', 'median_hh_income']],\n",
    "        left_on='fips', right_index=True)\n",
    "\n",
    "def fix_colname(s): return s.lower().strip().replace(' ', '_')\n",
    "demos.columns = [fix_colname(_) for _ in demos.columns]\n",
    "\n",
    "demos['pct_impoverished'] = demos.all_poverty.div(demos.population)"
   ]
  },
  {
   "cell_type": "markdown",
   "metadata": {},
   "source": [
    "#### Quick vis check"
   ]
  },
  {
   "cell_type": "code",
   "execution_count": 10,
   "metadata": {
    "scrolled": true
   },
   "outputs": [
    {
     "data": {
      "text/plain": [
       "<matplotlib.axes._subplots.AxesSubplot at 0x17953b53c08>"
      ]
     },
     "execution_count": 10,
     "metadata": {},
     "output_type": "execute_result"
    },
    {
     "data": {
      "image/png": "[encoded data removed]",
      "text/plain": [
       "<Figure size 432x288 with 1 Axes>"
      ]
     },
     "metadata": {
      "needs_background": "light"
     },
     "output_type": "display_data"
    }
   ],
   "source": [
    "demos.pct_impoverished.hist()"
   ]
  },
  {
   "cell_type": "code",
   "execution_count": 11,
   "metadata": {},
   "outputs": [
    {
     "data": {
      "text/plain": [
       "<matplotlib.axes._subplots.AxesSubplot at 0x179541b3d08>"
      ]
     },
     "execution_count": 11,
     "metadata": {},
     "output_type": "execute_result"
    },
    {
     "data": {
      "image/png": "[encoded data removed]",
      "text/plain": [
       "<Figure size 432x288 with 1 Axes>"
      ]
     },
     "metadata": {
      "needs_background": "light"
     },
     "output_type": "display_data"
    }
   ],
   "source": [
    "demos.plot.scatter('pct_impoverished', 'mortality_risk')"
   ]
  },
  {
   "cell_type": "code",
   "execution_count": null,
   "metadata": {},
   "outputs": [],
   "source": []
  }
 ],
 "metadata": {
  "kernelspec": {
   "display_name": "Python 3",
   "language": "python",
   "name": "python3"
  },
  "language_info": {
   "codemirror_mode": {
    "name": "ipython",
    "version": 3
   },
   "file_extension": ".py",
   "mimetype": "text/x-python",
   "name": "python",
   "nbconvert_exporter": "python",
   "pygments_lexer": "ipython3",
   "version": "3.7.6"
  }
 },
 "nbformat": 4,
 "nbformat_minor": 4
}
