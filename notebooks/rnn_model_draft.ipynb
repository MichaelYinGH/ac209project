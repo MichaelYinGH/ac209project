{
 "cells": [
  {
   "cell_type": "code",
   "execution_count": 1,
   "metadata": {},
   "outputs": [],
   "source": [
    "import pandas as pd\n",
    "import numpy as np\n",
    "from sklearn.linear_model import LinearRegression\n",
    "from sklearn.model_selection import train_test_split\n",
    "from sklearn.metrics import mean_squared_error\n",
    "from sklearn.preprocessing import StandardScaler\n",
    "from os import path\n",
    "from tqdm import tqdm\n",
    "\n",
    "from tensorflow import keras\n",
    "from tensorflow.keras import layers as l"
   ]
  },
  {
   "cell_type": "markdown",
   "metadata": {},
   "source": [
    "## Preprocess Data\n",
    "\n",
    "- We decided to remove rows with null values (given the high abundance of training examples) and to remove rows which included a stray value one day in New York as per https://github.com/CSSEGISandData/COVID-19/issues/3103.\n",
    "- We assigned the 14-day covid history as separate predictors, as well as a few demographic indicators\n",
    "- We standardized the data given high variance between the ranges of different features"
   ]
  },
  {
   "cell_type": "code",
   "execution_count": 2,
   "metadata": {},
   "outputs": [],
   "source": [
    "def num_to_date(i):\n",
    "    if i>9:\n",
    "        return str(i)\n",
    "    return \"0\" + str(i)\n",
    "\n",
    "augmented_df = pd.read_csv(\"../processed_data/combined.csv\", index_col=0)\n",
    "\n",
    "# drop null values\n",
    "augmented_df = augmented_df.dropna(subset=([f\"{k}_before\" for k in range(15)]+['pct_impoverished']))\n",
    "\n",
    "# remove data with spike from NY county https://github.com/CSSEGISandData/COVID-19/issues/3103\n",
    "augmented_df = augmented_df.drop([\"36061_08-31-2020\"]+[f\"36061_09-{num_to_date(i)}-2020\" for i in range(1,15)])"
   ]
  },
  {
   "cell_type": "code",
   "execution_count": 3,
   "metadata": {},
   "outputs": [
    {
     "data": {
      "text/html": [
       "<div>\n",
       "<style scoped>\n",
       "    .dataframe tbody tr th:only-of-type {\n",
       "        vertical-align: middle;\n",
       "    }\n",
       "\n",
       "    .dataframe tbody tr th {\n",
       "        vertical-align: top;\n",
       "    }\n",
       "\n",
       "    .dataframe thead th {\n",
       "        text-align: right;\n",
       "    }\n",
       "</style>\n",
       "<table border=\"1\" class=\"dataframe\">\n",
       "  <thead>\n",
       "    <tr style=\"text-align: right;\">\n",
       "      <th></th>\n",
       "      <th>14_before</th>\n",
       "      <th>13_before</th>\n",
       "      <th>12_before</th>\n",
       "      <th>11_before</th>\n",
       "      <th>10_before</th>\n",
       "      <th>9_before</th>\n",
       "      <th>8_before</th>\n",
       "      <th>7_before</th>\n",
       "      <th>6_before</th>\n",
       "      <th>5_before</th>\n",
       "      <th>...</th>\n",
       "      <th>female_percentage</th>\n",
       "      <th>lat</th>\n",
       "      <th>long</th>\n",
       "      <th>life_expectancy</th>\n",
       "      <th>mortality_risk</th>\n",
       "      <th>all_poverty</th>\n",
       "      <th>median_hh_income</th>\n",
       "      <th>sq_miles</th>\n",
       "      <th>pct_impoverished</th>\n",
       "      <th>pop_density</th>\n",
       "    </tr>\n",
       "  </thead>\n",
       "  <tbody>\n",
       "    <tr>\n",
       "      <th>10003_04-07-2020</th>\n",
       "      <td>27.0</td>\n",
       "      <td>8.0</td>\n",
       "      <td>7.0</td>\n",
       "      <td>19.0</td>\n",
       "      <td>25.0</td>\n",
       "      <td>11.0</td>\n",
       "      <td>15.0</td>\n",
       "      <td>41.0</td>\n",
       "      <td>29.0</td>\n",
       "      <td>19.0</td>\n",
       "      <td>...</td>\n",
       "      <td>51.566562</td>\n",
       "      <td>39.576833</td>\n",
       "      <td>-75.652692</td>\n",
       "      <td>78.985449</td>\n",
       "      <td>49.253442</td>\n",
       "      <td>61319.0</td>\n",
       "      <td>67246.0</td>\n",
       "      <td>426.29</td>\n",
       "      <td>0.110458</td>\n",
       "      <td>1302.242605</td>\n",
       "    </tr>\n",
       "    <tr>\n",
       "      <th>10003_04-08-2020</th>\n",
       "      <td>8.0</td>\n",
       "      <td>7.0</td>\n",
       "      <td>19.0</td>\n",
       "      <td>25.0</td>\n",
       "      <td>11.0</td>\n",
       "      <td>15.0</td>\n",
       "      <td>41.0</td>\n",
       "      <td>29.0</td>\n",
       "      <td>19.0</td>\n",
       "      <td>34.0</td>\n",
       "      <td>...</td>\n",
       "      <td>51.566562</td>\n",
       "      <td>39.576833</td>\n",
       "      <td>-75.652692</td>\n",
       "      <td>78.985449</td>\n",
       "      <td>49.253442</td>\n",
       "      <td>61319.0</td>\n",
       "      <td>67246.0</td>\n",
       "      <td>426.29</td>\n",
       "      <td>0.110458</td>\n",
       "      <td>1302.242605</td>\n",
       "    </tr>\n",
       "    <tr>\n",
       "      <th>10003_04-09-2020</th>\n",
       "      <td>7.0</td>\n",
       "      <td>19.0</td>\n",
       "      <td>25.0</td>\n",
       "      <td>11.0</td>\n",
       "      <td>15.0</td>\n",
       "      <td>41.0</td>\n",
       "      <td>29.0</td>\n",
       "      <td>19.0</td>\n",
       "      <td>34.0</td>\n",
       "      <td>121.0</td>\n",
       "      <td>...</td>\n",
       "      <td>51.566562</td>\n",
       "      <td>39.576833</td>\n",
       "      <td>-75.652692</td>\n",
       "      <td>78.985449</td>\n",
       "      <td>49.253442</td>\n",
       "      <td>61319.0</td>\n",
       "      <td>67246.0</td>\n",
       "      <td>426.29</td>\n",
       "      <td>0.110458</td>\n",
       "      <td>1302.242605</td>\n",
       "    </tr>\n",
       "    <tr>\n",
       "      <th>10003_04-10-2020</th>\n",
       "      <td>19.0</td>\n",
       "      <td>25.0</td>\n",
       "      <td>11.0</td>\n",
       "      <td>15.0</td>\n",
       "      <td>41.0</td>\n",
       "      <td>29.0</td>\n",
       "      <td>19.0</td>\n",
       "      <td>34.0</td>\n",
       "      <td>121.0</td>\n",
       "      <td>36.0</td>\n",
       "      <td>...</td>\n",
       "      <td>51.566562</td>\n",
       "      <td>39.576833</td>\n",
       "      <td>-75.652692</td>\n",
       "      <td>78.985449</td>\n",
       "      <td>49.253442</td>\n",
       "      <td>61319.0</td>\n",
       "      <td>67246.0</td>\n",
       "      <td>426.29</td>\n",
       "      <td>0.110458</td>\n",
       "      <td>1302.242605</td>\n",
       "    </tr>\n",
       "    <tr>\n",
       "      <th>10003_04-11-2020</th>\n",
       "      <td>25.0</td>\n",
       "      <td>11.0</td>\n",
       "      <td>15.0</td>\n",
       "      <td>41.0</td>\n",
       "      <td>29.0</td>\n",
       "      <td>19.0</td>\n",
       "      <td>34.0</td>\n",
       "      <td>121.0</td>\n",
       "      <td>36.0</td>\n",
       "      <td>60.0</td>\n",
       "      <td>...</td>\n",
       "      <td>51.566562</td>\n",
       "      <td>39.576833</td>\n",
       "      <td>-75.652692</td>\n",
       "      <td>78.985449</td>\n",
       "      <td>49.253442</td>\n",
       "      <td>61319.0</td>\n",
       "      <td>67246.0</td>\n",
       "      <td>426.29</td>\n",
       "      <td>0.110458</td>\n",
       "      <td>1302.242605</td>\n",
       "    </tr>\n",
       "  </tbody>\n",
       "</table>\n",
       "<p>5 rows × 33 columns</p>\n",
       "</div>"
      ],
      "text/plain": [
       "                  14_before  13_before  12_before  11_before  10_before  \\\n",
       "10003_04-07-2020       27.0        8.0        7.0       19.0       25.0   \n",
       "10003_04-08-2020        8.0        7.0       19.0       25.0       11.0   \n",
       "10003_04-09-2020        7.0       19.0       25.0       11.0       15.0   \n",
       "10003_04-10-2020       19.0       25.0       11.0       15.0       41.0   \n",
       "10003_04-11-2020       25.0       11.0       15.0       41.0       29.0   \n",
       "\n",
       "                  9_before  8_before  7_before  6_before  5_before  ...  \\\n",
       "10003_04-07-2020      11.0      15.0      41.0      29.0      19.0  ...   \n",
       "10003_04-08-2020      15.0      41.0      29.0      19.0      34.0  ...   \n",
       "10003_04-09-2020      41.0      29.0      19.0      34.0     121.0  ...   \n",
       "10003_04-10-2020      29.0      19.0      34.0     121.0      36.0  ...   \n",
       "10003_04-11-2020      19.0      34.0     121.0      36.0      60.0  ...   \n",
       "\n",
       "                  female_percentage        lat       long  life_expectancy  \\\n",
       "10003_04-07-2020          51.566562  39.576833 -75.652692        78.985449   \n",
       "10003_04-08-2020          51.566562  39.576833 -75.652692        78.985449   \n",
       "10003_04-09-2020          51.566562  39.576833 -75.652692        78.985449   \n",
       "10003_04-10-2020          51.566562  39.576833 -75.652692        78.985449   \n",
       "10003_04-11-2020          51.566562  39.576833 -75.652692        78.985449   \n",
       "\n",
       "                  mortality_risk  all_poverty median_hh_income sq_miles  \\\n",
       "10003_04-07-2020       49.253442      61319.0          67246.0   426.29   \n",
       "10003_04-08-2020       49.253442      61319.0          67246.0   426.29   \n",
       "10003_04-09-2020       49.253442      61319.0          67246.0   426.29   \n",
       "10003_04-10-2020       49.253442      61319.0          67246.0   426.29   \n",
       "10003_04-11-2020       49.253442      61319.0          67246.0   426.29   \n",
       "\n",
       "                 pct_impoverished  pop_density  \n",
       "10003_04-07-2020         0.110458  1302.242605  \n",
       "10003_04-08-2020         0.110458  1302.242605  \n",
       "10003_04-09-2020         0.110458  1302.242605  \n",
       "10003_04-10-2020         0.110458  1302.242605  \n",
       "10003_04-11-2020         0.110458  1302.242605  \n",
       "\n",
       "[5 rows x 33 columns]"
      ]
     },
     "execution_count": 3,
     "metadata": {},
     "output_type": "execute_result"
    }
   ],
   "source": [
    "augmented_df.head()"
   ]
  },
  {
   "cell_type": "code",
   "execution_count": 4,
   "metadata": {},
   "outputs": [],
   "source": [
    "predictors = [f\"{k + 1}_before\" for k in range(14)] + ['median_age', 'female_percentage', 'life_expectancy', 'pct_impoverished', 'median_hh_income']\n",
    "X = augmented_df[predictors]\n",
    "y = augmented_df['0_before']\n",
    "X_train, X_test, y_train, y_test = train_test_split(X, y, test_size=0.1, random_state=209)"
   ]
  },
  {
   "cell_type": "code",
   "execution_count": 5,
   "metadata": {},
   "outputs": [],
   "source": [
    "scaler = StandardScaler()\n",
    "X_train_scaled = scaler.fit_transform(X_train)\n",
    "X_test_scaled = scaler.transform(X_test)"
   ]
  },
  {
   "cell_type": "markdown",
   "metadata": {},
   "source": [
    "## Prediction\n",
    "\n"
   ]
  },
  {
   "cell_type": "code",
   "execution_count": 6,
   "metadata": {},
   "outputs": [],
   "source": [
    "# define window length (assuming it's first N features) so we can divide up two input streams\n",
    "window = 14\n",
    "dim = X_train_scaled.shape[0]\n",
    "\n",
    "# reshape sequences for RNN cells\n",
    "X_train_seq = X_train_scaled[:, :window].reshape(-1, 1, window)\n",
    "\n",
    "# slice off demographic data\n",
    "X_train_demo = X_train_scaled[:, window:]"
   ]
  },
  {
   "cell_type": "markdown",
   "metadata": {},
   "source": [
    "#### Define network architecture"
   ]
  },
  {
   "cell_type": "code",
   "execution_count": 10,
   "metadata": {},
   "outputs": [],
   "source": [
    "# input layer for sequence- shape is batch_size/1/window_size\n",
    "seq_in = keras.Input(shape=(1, window,))\n",
    "\n",
    "# input layer for demographic data\n",
    "demo_in = keras.Input(shape=(X_train_demo.shape[1],))\n",
    "\n",
    "# network for sequences\n",
    "h1_seq = l.LSTM(16)(seq_in)\n",
    "\n",
    "# network for demographics\n",
    "h1_demo = l.Dense(16, activation='relu')(demo_in)\n",
    "\n",
    "# concat\n",
    "x = l.concatenate([h1_seq, h1_demo])\n",
    "\n",
    "# dense on top of concatenated layer\n",
    "x = l.Dense(16, activation='relu')(x)\n",
    "\n",
    "out = l.Dense(1)(x)"
   ]
  },
  {
   "cell_type": "markdown",
   "metadata": {},
   "source": [
    "#### Compile and summarize model"
   ]
  },
  {
   "cell_type": "code",
   "execution_count": 11,
   "metadata": {},
   "outputs": [
    {
     "name": "stdout",
     "output_type": "stream",
     "text": [
      "Model: \"functional_3\"\n",
      "__________________________________________________________________________________________________\n",
      "Layer (type)                    Output Shape         Param #     Connected to                     \n",
      "==================================================================================================\n",
      "input_3 (InputLayer)            [(None, 1, 14)]      0                                            \n",
      "__________________________________________________________________________________________________\n",
      "input_4 (InputLayer)            [(None, 5)]          0                                            \n",
      "__________________________________________________________________________________________________\n",
      "lstm_1 (LSTM)                   (None, 16)           1984        input_3[0][0]                    \n",
      "__________________________________________________________________________________________________\n",
      "dense_2 (Dense)                 (None, 16)           96          input_4[0][0]                    \n",
      "__________________________________________________________________________________________________\n",
      "concatenate_1 (Concatenate)     (None, 32)           0           lstm_1[0][0]                     \n",
      "                                                                 dense_2[0][0]                    \n",
      "__________________________________________________________________________________________________\n",
      "dense_3 (Dense)                 (None, 16)           528         concatenate_1[0][0]              \n",
      "__________________________________________________________________________________________________\n",
      "dense_4 (Dense)                 (None, 1)            17          dense_3[0][0]                    \n",
      "==================================================================================================\n",
      "Total params: 2,625\n",
      "Trainable params: 2,625\n",
      "Non-trainable params: 0\n",
      "__________________________________________________________________________________________________\n"
     ]
    }
   ],
   "source": [
    "model = keras.Model(\n",
    "    inputs=[seq_in, demo_in],\n",
    "    outputs=[out],\n",
    ")\n",
    "\n",
    "model.compile(loss='mse')\n",
    "model.summary()"
   ]
  },
  {
   "cell_type": "markdown",
   "metadata": {},
   "source": [
    "#### Fit"
   ]
  },
  {
   "cell_type": "code",
   "execution_count": 12,
   "metadata": {},
   "outputs": [
    {
     "name": "stdout",
     "output_type": "stream",
     "text": [
      "9962/9962 [==============================] - 33s 3ms/step - loss: 4617.7446\n"
     ]
    },
    {
     "data": {
      "text/plain": [
       "<tensorflow.python.keras.callbacks.History at 0x19f047541c8>"
      ]
     },
     "execution_count": 12,
     "metadata": {},
     "output_type": "execute_result"
    }
   ],
   "source": [
    "model.fit(x=[X_train_seq, X_train_demo], y=y_train)"
   ]
  },
  {
   "cell_type": "code",
   "execution_count": null,
   "metadata": {},
   "outputs": [],
   "source": []
  }
 ],
 "metadata": {
  "kernelspec": {
   "display_name": "Python 3",
   "language": "python",
   "name": "python3"
  },
  "language_info": {
   "codemirror_mode": {
    "name": "ipython",
    "version": 3
   },
   "file_extension": ".py",
   "mimetype": "text/x-python",
   "name": "python",
   "nbconvert_exporter": "python",
   "pygments_lexer": "ipython3",
   "version": "3.8.3"
  }
 },
 "nbformat": 4,
 "nbformat_minor": 4
}
